{
 "cells": [
  {
   "cell_type": "code",
   "execution_count": 2,
   "id": "9416f31e",
   "metadata": {},
   "outputs": [
    {
     "name": "stdout",
     "output_type": "stream",
     "text": [
      "처음으로 만나는 파이썬 with jslim...\n"
     ]
    }
   ],
   "source": [
    "print('처음으로 만나는 파이썬 with jslim...')"
   ]
  },
  {
   "cell_type": "markdown",
   "id": "6ba49d33",
   "metadata": {},
   "source": [
    "#### 파이썬 변수 및 주의사항\n",
    "- 대소문자 구별\n",
    "- 허용되는 특수문자: _, $\n",
    "- 예약어는 변수 또는 함수명으로 사용 불가"
   ]
  },
  {
   "cell_type": "code",
   "execution_count": 3,
   "id": "a48c296f",
   "metadata": {},
   "outputs": [],
   "source": [
    "# 주석"
   ]
  },
  {
   "cell_type": "code",
   "execution_count": 5,
   "id": "3ca4d20b",
   "metadata": {},
   "outputs": [
    {
     "data": {
      "text/plain": [
       "'\\n변수\\nBuilt - In Type\\n- Numeric\\n- Sequence\\n- Text Sequence\\n- Net\\n- Mapping(dict, tupel)\\n- Boolean\\n- Class(Object Oriented Programming)\\n\\n변수 지정방법\\n- Camel Case -> numberOfCollege   (변수, 함수)\\n- Pascal Case -> NumberOfCollege  (클래스)\\n- Snake Case -> number_of_college (변수, 함수)\\n'"
      ]
     },
     "execution_count": 5,
     "metadata": {},
     "output_type": "execute_result"
    }
   ],
   "source": [
    "'''\n",
    "변수\n",
    "Built - In Type\n",
    "- Numeric\n",
    "- Sequence\n",
    "- Text Sequence\n",
    "- Set\n",
    "- Mapping(dict, tupel)\n",
    "- Boolean\n",
    "- Class(Object Oriented Programming)\n",
    "- Function\n",
    "\n",
    "변수 지정방법\n",
    "- Camel Case -> numberOfCollege   (변수, 함수)\n",
    "- Pascal Case -> NumberOfCollege  (클래스)\n",
    "- Snake Case -> number_of_college (변수, 함수)\n",
    "'''"
   ]
  },
  {
   "cell_type": "code",
   "execution_count": 6,
   "id": "85904587",
   "metadata": {},
   "outputs": [
    {
     "name": "stdout",
     "output_type": "stream",
     "text": [
      "['False', 'None', 'True', '__peg_parser__', 'and', 'as', 'assert', 'async', 'await', 'break', 'class', 'continue', 'def', 'del', 'elif', 'else', 'except', 'finally', 'for', 'from', 'global', 'if', 'import', 'in', 'is', 'lambda', 'nonlocal', 'not', 'or', 'pass', 'raise', 'return', 'try', 'while', 'with', 'yield']\n"
     ]
    }
   ],
   "source": [
    "import keyword\n",
    "print(keyword.kwlist)"
   ]
  },
  {
   "cell_type": "code",
   "execution_count": 11,
   "id": "019370a8",
   "metadata": {},
   "outputs": [
    {
     "name": "stdout",
     "output_type": "stream",
     "text": [
      "Scalar Type - type()\n",
      "year type -  <class 'int'>\n",
      "month type -  <class 'int'>\n",
      "day type -  <class 'int'>\n",
      "\n",
      "float type -  <class 'float'>\n",
      "\n",
      "boolean type -  <class 'bool'>\n",
      "\n",
      "string type -  <class 'str'>\n",
      "\n",
      "string type -  <class 'str'>\n",
      "\n"
     ]
    }
   ],
   "source": [
    "print('Scalar Type - type()')\n",
    "\n",
    "year = 2022\n",
    "month = 9\n",
    "day = 22\n",
    "\n",
    "print('year type - ', type(year))\n",
    "print('month type - ', type(month))\n",
    "print('day type - ', type(day))\n",
    "print()\n",
    "\n",
    "floatValue = 3.14\n",
    "print('float type - ', type(floatValue))\n",
    "print()\n",
    "\n",
    "booleanValue = True\n",
    "print('boolean type - ', type(booleanValue))\n",
    "print()\n",
    "\n",
    "strValue = 'jslim'\n",
    "print('string type - ', type(strValue))\n",
    "print()\n",
    "\n",
    "strValue = \"jslim\"\n",
    "print('string type - ', type(strValue))\n",
    "print()"
   ]
  },
  {
   "cell_type": "code",
   "execution_count": 15,
   "id": "1c976b45",
   "metadata": {},
   "outputs": [
    {
     "name": "stdout",
     "output_type": "stream",
     "text": [
      "순차형 - list\n",
      "인덱스로 관리되는 데이터(인덱싱, 슬라이싱)\n",
      "인덱스는 0부터\n",
      "\n",
      "data -  ['jslim', 'python', 'django', 'numpy', 'pandas']\n",
      "type -  <class 'list'>\n",
      "indexing - \n",
      "jslim\n",
      "\n",
      "slicing - \n",
      "['jslim', 'python', 'django']\n",
      "\n"
     ]
    }
   ],
   "source": [
    "print('순차형 - list')\n",
    "print('인덱스로 관리되는 데이터(인덱싱, 슬라이싱)')\n",
    "print('인덱스는 0부터')\n",
    "tmp_list = ['jslim', 'python', 'django', 'numpy', 'pandas']\n",
    "print()\n",
    "\n",
    "print('data - ', tmp_list)\n",
    "print('type - ', type(tmp_list))\n",
    "\n",
    "print('indexing - ')\n",
    "print(tmp_list[0])\n",
    "print()\n",
    "\n",
    "print('slicing - ')\n",
    "print(tmp_list[0:3])         # 엔드 인덱스는 -1\n",
    "print()"
   ]
  },
  {
   "cell_type": "code",
   "execution_count": 33,
   "id": "bfb10c15",
   "metadata": {},
   "outputs": [
    {
     "name": "stdout",
     "output_type": "stream",
     "text": [
      "*중요\n",
      "문자 순차형 - \n",
      "Talk is cheap. Show me the code <class 'str'> 31\n",
      "\n",
      "talk slicing -  Talk\n",
      "블럭을 빠져 나왔다\n",
      "\n",
      "T\n",
      "a\n",
      "l\n",
      "k\n",
      " \n",
      "i\n",
      "s\n",
      " \n",
      "c\n",
      "h\n",
      "e\n",
      "a\n",
      "p\n",
      ".\n",
      " \n",
      "S\n",
      "h\n",
      "o\n",
      "w\n",
      " \n",
      "m\n",
      "e\n",
      " \n",
      "t\n",
      "h\n",
      "e\n",
      " \n",
      "c\n",
      "o\n",
      "d\n",
      "e\n"
     ]
    }
   ],
   "source": [
    "print('*중요')\n",
    "print('문자 순차형 - ')\n",
    "\n",
    "txt_seq ='Talk is cheap. Show me the code'\n",
    "print(txt_seq, type(txt_seq), len(txt_seq))\n",
    "print()\n",
    "\n",
    "print('talk slicing - ', txt_seq[0:4])\n",
    "\n",
    "for char in txt_seq :                # {} 대신 :을 사용\n",
    "    pass\n",
    "\n",
    "print('블럭을 빠져 나왔다')\n",
    "print()\n",
    "\n",
    "for char in txt_seq :\n",
    "    print(char)"
   ]
  },
  {
   "cell_type": "code",
   "execution_count": 25,
   "id": "1bb7e284",
   "metadata": {},
   "outputs": [
    {
     "name": "stdout",
     "output_type": "stream",
     "text": [
      "출력의 형식을 다르게 포맷팅할 수 있는 방법 - \n",
      "print() : sep, end\n",
      "\n",
      "\n",
      "Speak Out. 'student'\n",
      "우리는 분석을 위한 파이썬을 학습합니다.\n",
      "그래서, 파이썬이 좋아요.\n",
      "섭섭이도 좋아요.\n",
      "오늘은 목요일 입니다\n",
      "\n",
      "option - sep\n",
      "P\tY\tT\tH\tO\tN\n",
      "PYTHON\n",
      "P-Y-T-H-O-N\n",
      "python.org\n",
      "jslim9413@naver.com\n",
      "\n",
      "option - end\n",
      "Welcome To Web Site\n"
     ]
    }
   ],
   "source": [
    "print('출력의 형식을 다르게 포맷팅할 수 있는 방법 - ')\n",
    "print('print() : sep, end')\n",
    "print()\n",
    "print()\n",
    "\n",
    "# 안에 작은 따옴표를 쓰려면 밖은 큰 따옴표\n",
    "print(\"Speak Out. 'student'\")\n",
    "# 큰따옴표 3번 쓰면 내부에서 줄바꿈 인식\n",
    "print(\"\"\"우리는 분석을 위한 파이썬을 학습합니다.\n",
    "그래서, 파이썬이 좋아요.\n",
    "섭섭이도 좋아요.\"\"\")\n",
    "print('오늘은', '목요일', '입니다')\n",
    "print()\n",
    "\n",
    "print('option - sep')\n",
    "print('P', 'Y', 'T', 'H', 'O', 'N', sep = '\\t')      # 공백을 tap으로\n",
    "print('P', 'Y', 'T', 'H', 'O', 'N', sep = '')\n",
    "print('P', 'Y', 'T', 'H', 'O', 'N', sep = '-')\n",
    "print('python', 'org', sep = '.')\n",
    "print('jslim9413', 'naver.com', sep = '@')\n",
    "print()\n",
    "\n",
    "print('option - end')\n",
    "print('Welcome To', end = ' ')      # 줄바꿈 하지 않기\n",
    "print('Web Site')"
   ]
  },
  {
   "cell_type": "code",
   "execution_count": 32,
   "id": "7ac2d5a9",
   "metadata": {},
   "outputs": [
    {
     "name": "stdout",
     "output_type": "stream",
     "text": [
      "format (%d, %s, %f)\n",
      "format {}\n",
      "당신의 이름은(은) 섭섭해이고 나이는 24살 입니다.\n",
      "당신의 이름은(은) 섭섭해이고 나이는 24살 입니다.\n",
      "당신의 이름은(은) 섭섭해이고 나이는 24살 입니다.\n",
      "\n",
      "3.14\n",
      "3.14\n"
     ]
    }
   ],
   "source": [
    "print('format (%d, %s, %f)')\n",
    "print('format {}')\n",
    "print('당신의 %s(은) %s이고 나이는 %d살 입니다.' %('이름은', '섭섭해', 24))\n",
    "print('당신의 {}(은) {}이고 나이는 {}살 입니다.' .format('이름은', '섭섭해', 24))\n",
    "print('당신의 {1}(은) {2}이고 나이는 {0}살 입니다.' .format(24, '이름은', '섭섭해'))\n",
    "print()\n",
    "\n",
    "print('%.2f' %(3.14159))               # 정수자리.소수점자리f\n",
    "print('%1.2f' %(3.14159))"
   ]
  },
  {
   "cell_type": "code",
   "execution_count": 36,
   "id": "82053d25",
   "metadata": {},
   "outputs": [
    {
     "name": "stdout",
     "output_type": "stream",
     "text": [
      "-index를 제공한다\n",
      "indexing -  e\n",
      "slicing -  code\n",
      "\n",
      "[startindex : endindex : step]\n",
      "step -  Tl scep hwm h oe\n",
      "step -  edoc eht em wohS .paehc si klaT\n"
     ]
    }
   ],
   "source": [
    "txt_seq = 'Talk is cheap. Show me the code'\n",
    "print('-index를 제공한다')\n",
    "print('indexing - ', txt_seq[-1])         # 뒤에서부터 출력\n",
    "print('slicing - ', txt_seq[-4 : ])\n",
    "print()\n",
    "\n",
    "print('[startindex : endindex : step]')\n",
    "print('step - ', txt_seq[0 : len(txt_seq) : 2])    # 스텝: 처음부터 끝까지 두 칸씩 띄어서\n",
    "print('step - ', txt_seq[  :  :  -1])"
   ]
  },
  {
   "cell_type": "code",
   "execution_count": 42,
   "id": "4f382994",
   "metadata": {},
   "outputs": [
    {
     "name": "stdout",
     "output_type": "stream",
     "text": [
      "type -  <class 'str'>\n",
      "\n",
      "짝만 출력 -  짝짝짝짝짝짝짝짝\n",
      "홀만 출력 -  홀홀홀홀홀홀홀홀\n"
     ]
    }
   ],
   "source": [
    "tmp_str = '홀짝홀짝홀짝홀짝홀짝홀짝홀짝홀짝'\n",
    "print('type - ', type(tmp_str))\n",
    "print()\n",
    "\n",
    "print('짝만 출력 - ', tmp_str[ 1: : 2])\n",
    "print('홀만 출력 - ', tmp_str[ 0: : 2])"
   ]
  },
  {
   "cell_type": "code",
   "execution_count": 50,
   "id": "c36898cb",
   "metadata": {},
   "outputs": [
    {
     "name": "stdout",
     "output_type": "stream",
     "text": [
      "문자열 함수 - upper(), startswith(), count(), endswith(), ...\n",
      "사용법 - 문자열변수.함수()\n",
      "capitalize -  Python\n",
      "upper -  PYTHON\n",
      "replace -  010 4603 2283\n",
      "도메인만 추출 -  com\n",
      "도메인만 추출 -  com\n"
     ]
    }
   ],
   "source": [
    "print('문자열 함수 - upper(), startswith(), count(), endswith(), ...')\n",
    "print('사용법 - 문자열변수.함수()')\n",
    "\n",
    "tmp_str = 'python'\n",
    "print('capitalize - ', tmp_str.capitalize())\n",
    "print('upper - ', tmp_str.upper())\n",
    "\n",
    "tmp_str = '010-4603-2283'\n",
    "print('replace - ', tmp_str.replace('-', ' '))\n",
    "\n",
    "tmp_str = 'http://www.naver.com'\n",
    "print('도메인만 추출 - ', tmp_str[-3: ])\n",
    "print('도메인만 추출 - ', tmp_str[tmp_str.find('com'): ])"
   ]
  },
  {
   "cell_type": "code",
   "execution_count": 51,
   "id": "7c9219d3",
   "metadata": {},
   "outputs": [
    {
     "name": "stdout",
     "output_type": "stream",
     "text": [
      "주소와 도메인을 분리 -  ['http://www', 'naver', 'com']\n",
      "주소와 도메인을 분리 -  <class 'list'>\n"
     ]
    }
   ],
   "source": [
    "tmp_str = 'http://www.naver.com'\n",
    "print('주소와 도메인을 분리 - ', tmp_str.split('.'))\n",
    "print('주소와 도메인을 분리 - ', type(tmp_str.split('.')))"
   ]
  },
  {
   "cell_type": "code",
   "execution_count": 56,
   "id": "0821d588",
   "metadata": {},
   "outputs": [
    {
     "name": "stdout",
     "output_type": "stream",
     "text": [
      "공백제거 후 데이터 추출 -  multicampus     15\n",
      "공백제거 후 데이터 추출 -      multicampus 15\n",
      "공백제거 후 데이터 추출 -  multicampus 11\n"
     ]
    }
   ],
   "source": [
    "tmp_str = '    multicampus    '\n",
    "print('공백제거 후 데이터 추출 - ', tmp_str.lstrip(), len(tmp_str.lstrip()))\n",
    "print('공백제거 후 데이터 추출 - ', tmp_str.rstrip(), len(tmp_str.rstrip()))\n",
    "print('공백제거 후 데이터 추출 - ', tmp_str.strip(), len(tmp_str.strip()))"
   ]
  },
  {
   "cell_type": "code",
   "execution_count": 108,
   "id": "b0922c3a",
   "metadata": {},
   "outputs": [
    {
     "name": "stdout",
     "output_type": "stream",
     "text": [
      "확장자가 xls로 끝나는지 확인 -  True\n",
      "XXXX 시작하는 문서를 확인 -  True\n"
     ]
    }
   ],
   "source": [
    "tmp_str = '보고서.xls'\n",
    "print('확장자가 xls로 끝나는지 확인 - ', tmp_str.endswith(('xls', 'xlsx')))\n",
    "\n",
    "tmp_str = '2022_보고서.xls'\n",
    "print('XXXX 시작하는 문서를 확인 - ', tmp_str.startswith(('2022')))"
   ]
  },
  {
   "cell_type": "code",
   "execution_count": 62,
   "id": "d0dcd6d3",
   "metadata": {},
   "outputs": [
    {
     "name": "stdout",
     "output_type": "stream",
     "text": [
      "set - type\n",
      "data - type :  {3, 5, 7} <class 'set'>\n"
     ]
    }
   ],
   "source": [
    "print('set - type')\n",
    "\n",
    "tmp_set = {3,5,7,3}         # 중복 허용 X\n",
    "print('data - type : ', tmp_set, type(tmp_set))"
   ]
  },
  {
   "cell_type": "code",
   "execution_count": 67,
   "id": "6ea33279",
   "metadata": {},
   "outputs": [
    {
     "name": "stdout",
     "output_type": "stream",
     "text": [
      "Mapping - dict, tuple\n",
      "\n",
      "data - type :  {} <class 'dict'>\n",
      "data - type :  {'name': 'machine Learning', 'version': 2.0} <class 'dict'>\n",
      "\n",
      "data - type :  () <class 'tuple'>\n",
      "data - type :  (1,) <class 'tuple'>\n",
      "data - type:  (('name', 'python'), ('version', 2.0)) <class 'tuple'>\n"
     ]
    }
   ],
   "source": [
    "print('Mapping - dict, tuple')\n",
    "print()\n",
    "\n",
    "\n",
    "tmp_dict = {}        # 중괄호 비어있으면 타입이 딕셔너리\n",
    "print('data - type : ', tmp_dict, type(tmp_dict))\n",
    "\n",
    "tmp_dict = {\n",
    "    'name'  : 'machine Learning',        # 키밸류 형식 매핑\n",
    "    'version'  : 2.0\n",
    "}\n",
    "print('data - type : ', tmp_dict, type(tmp_dict))\n",
    "print()\n",
    "\n",
    "\n",
    "tmp_tuple = ()        # 소괄호는 튜플\n",
    "print('data - type : ',  tmp_tuple, type(tmp_tuple))\n",
    "\n",
    "tmp_tuple = (1,)        # 숫자 하나만 들어가면 int가 되므로 , 를 찍어야함\n",
    "print('data - type : ',  tmp_tuple, type(tmp_tuple))\n",
    "\n",
    "tmp_tuple = ('name', 'python'), ('version', 2.0)\n",
    "print('data - type: ', tmp_tuple, type(tmp_tuple))\n"
   ]
  },
  {
   "cell_type": "code",
   "execution_count": 69,
   "id": "f7fb0f60",
   "metadata": {},
   "outputs": [
    {
     "name": "stdout",
     "output_type": "stream",
     "text": [
      "조건판단 boolean - True, False\n",
      "in 연산자 - \n",
      "data -  apple banana pineapple mango grape melon\n",
      "\n",
      "True\n",
      "True\n"
     ]
    }
   ],
   "source": [
    "print('조건판단 boolean - True, False')\n",
    "print('in 연산자 - ')\n",
    "tmp_str = 'apple banana pineapple mango grape melon'\n",
    "print('data - ', tmp_str)\n",
    "print()\n",
    "print('apple' in tmp_str)\n",
    "print('Apple'.lower() in tmp_str)"
   ]
  },
  {
   "cell_type": "code",
   "execution_count": 71,
   "id": "647f3fab",
   "metadata": {},
   "outputs": [],
   "source": [
    "def userFunction() :\n",
    "    print('함수도 변수의 타입이다.')"
   ]
  },
  {
   "cell_type": "code",
   "execution_count": 72,
   "id": "43714ada",
   "metadata": {},
   "outputs": [
    {
     "name": "stdout",
     "output_type": "stream",
     "text": [
      "type -  <function userFunction at 0x000002210262CF70>\n"
     ]
    }
   ],
   "source": [
    "tmp_func = userFunction\n",
    "print('type - ', tmp_func)"
   ]
  },
  {
   "cell_type": "markdown",
   "id": "68670841",
   "metadata": {},
   "source": [
    "#### list ***\n",
    "- array 아님, R- Vector\n",
    "- 순서 O, 중복 O, 수정 삭제 가능\n",
    "- 선언: [], list()\n",
    "- 순서가 존재하므로 indexing, slicing(index 0 ~)"
   ]
  },
  {
   "cell_type": "code",
   "execution_count": 109,
   "id": "10f90c01",
   "metadata": {},
   "outputs": [
    {
     "name": "stdout",
     "output_type": "stream",
     "text": [
      "type -  <class 'list'>\n",
      "type -  <class 'list'>\n",
      "data -  [1, 2, 3, 4, 5, 'Jslim', ['show', 'me', 'the', 'money']]\n",
      "\n",
      "type -  <class 'list'>\n",
      "data -  ['show', 'me', 'the', 'money']\n",
      "type -  <class 'str'>\n",
      "data -  show\n"
     ]
    }
   ],
   "source": [
    "tmp_list = []\n",
    "print('type - ', type(tmp_list))\n",
    "\n",
    "tmp_list = [1, 2, 3, 4, 5, 'Jslim', ['show', 'me', 'the', 'money']]\n",
    "print('type - ' , type(tmp_list))\n",
    "print('data - ' , tmp_list)\n",
    "print()\n",
    "\n",
    "# 리스트만 추출\n",
    "extract= tmp_list[-1]\n",
    "print('type - ', type(extract))\n",
    "print('data - ', extract)\n",
    "# show만 추출\n",
    "extract= tmp_list[-1][0]\n",
    "print('type - ', type(extract))\n",
    "print('data - ', extract)"
   ]
  },
  {
   "cell_type": "code",
   "execution_count": 93,
   "id": "d18a83c3",
   "metadata": {},
   "outputs": [
    {
     "name": "stdout",
     "output_type": "stream",
     "text": [
      "list 연산 - \n",
      "+ [1, 2, 3, 4, 5]\n",
      "+ [1, 2, 3, 4, 5] <class 'list'>\n",
      "새로운 데이터 추가 - \n",
      "[1, 2, 3, 4, 5, 1]\n",
      "새로운 데이터 원하는 인덱스번지에 추가 - insert\n",
      "[1, 6, 2, 3, 4, 5, 1]\n",
      "정렬 - sort\n",
      "[1, 1, 2, 3, 4, 5, 6]\n",
      "내림차순 정렬 - reverse\n",
      "[6, 5, 4, 3, 2, 1, 1]\n",
      "추출 - \n",
      "indexing -  6 [6, 5, 4, 3, 2, 1, 1]\n",
      "pop -  6 [5, 4, 3, 2, 1, 1]\n",
      "인덱스 번지를 원할 때 -  0 5\n",
      "삭제 - del, remove(data) None [5, 4, 3, 2, 1]\n",
      "중복 개수를 확인하고자 할 때 -  1\n",
      "[5, 4, 3, 2, 1]\n",
      "extend - \n",
      "[5, 4, 3, 2, 1, 8, 9, 10]\n"
     ]
    }
   ],
   "source": [
    "# 파이썬 내장함수 https://docs.python.org/ko/3/library/functions.html\n",
    "https://docs.python.org/3.9/library/index.html\n",
    "\n",
    "x_list = [1,2,3]\n",
    "y_list = [4,5]\n",
    "print('list 연산 - ')\n",
    "print('+', x_list + y_list)\n",
    "z_list = x_list + y_list\n",
    "print('+', z_list, type(z_list))\n",
    "\n",
    "print('새로운 데이터 추가 - ')\n",
    "z_list.append(1)\n",
    "print(z_list)\n",
    "\n",
    "print('새로운 데이터 원하는 인덱스번지에 추가 - insert')\n",
    "z_list.insert(1, 6)\n",
    "print(z_list)\n",
    "\n",
    "print('정렬 - sort')\n",
    "z_list.sort()\n",
    "print(z_list)\n",
    "\n",
    "print('내림차순 정렬 - reverse')\n",
    "z_list.reverse()\n",
    "print(z_list)\n",
    "\n",
    "print('추출 - ')\n",
    "print('indexing - ' , z_list[0], z_list)\n",
    "print('pop - ', z_list.pop(0), z_list)       # 원본 데이터에서 아예 추출\n",
    "\n",
    "print('인덱스 번지를 원할 때 - ', z_list.index(5), z_list[z_list.index(5)])\n",
    "\n",
    "print('삭제 - del, remove(data)', z_list.remove(1), z_list)   # 한 번만 삭제\n",
    "\n",
    "print('중복 개수를 확인하고자 할 때 - ', z_list.count(5))\n",
    "\n",
    "print(z_list)\n",
    "tmp_list = [8,9,10]\n",
    "print('extend - ')\n",
    "z_list.extend(tmp_list)    # 요소만 추가\n",
    "z_list.append(tmp_list)    # 리스트를 그대로 추가\n",
    "z_list = z_list + tmp_list # 요소만 추가, 변수에 할당해야함\n",
    "print(z_list)     "
   ]
  },
  {
   "cell_type": "code",
   "execution_count": 107,
   "id": "0b0d2ead",
   "metadata": {},
   "outputs": [
    {
     "name": "stdout",
     "output_type": "stream",
     "text": [
      "['그루엘라', '랑종', '모가디슈', '블랙위도우', '강철비2', '반도', '킹덤', '배드맨']\n",
      "['그루엘라', '랑종', '임정섭', '모가디슈', '블랙위도우', '강철비2', '반도', '킹덤', '배드맨']\n",
      "['그루엘라', '랑종', '임정섭', '모가디슈', '강철비2', '반도', '킹덤', '배드맨']\n",
      "['그루엘라', '랑종', '임정섭', '강철비2', '반도', '킹덤', '배드맨']\n",
      "['그루엘라', '랑종', '임정섭', '반도', '킹덤', '배드맨']\n",
      "['랑종', '임정섭', '반도', '킹덤', '배드맨']\n"
     ]
    }
   ],
   "source": [
    "# ---- 실습\n",
    "movie_rank = ['그루엘라' , '랑종' , '모가디슈' , '블랙위도우' , '강철비2' , '반도' , '킹덤']\n",
    "'''\n",
    "1. 배드맨을 마지막에 추가\n",
    "2. 랑종과 모가디슈 사이에 임정섭을 추가\n",
    "3. 블랙위도우 삭제\n",
    "4. 모가디슈와 강철비2 삭제\n",
    "5. 그루엘라의 인덱스를 구해서 pop()함수를 이용한 삭제\n",
    "6. 최종 리스트 출력 \n",
    "'''\n",
    "movie_rank.append('배드맨')\n",
    "print(movie_rank)\n",
    "\n",
    "movie_rank.insert(2, '임정섭')\n",
    "print(movie_rank)\n",
    "\n",
    "movie_rank.remove('블랙위도우')\n",
    "print(movie_rank)\n",
    "\n",
    "movie_rank.remove('모가디슈')\n",
    "print(movie_rank)\n",
    "\n",
    "movie_rank.remove('강철비2')\n",
    "print(movie_rank)\n",
    "\n",
    "movie_rank.index('그루엘라')\n",
    "movie_rank.pop(0)\n",
    "print(movie_rank)\n",
    "\n",
    "\n"
   ]
  },
  {
   "cell_type": "code",
   "execution_count": null,
   "id": "41e2793f",
   "metadata": {},
   "outputs": [],
   "source": []
  },
  {
   "cell_type": "code",
   "execution_count": null,
   "id": "6770309d",
   "metadata": {},
   "outputs": [],
   "source": []
  },
  {
   "cell_type": "code",
   "execution_count": null,
   "id": "b10ab292",
   "metadata": {},
   "outputs": [],
   "source": []
  },
  {
   "cell_type": "code",
   "execution_count": null,
   "id": "7e477daf",
   "metadata": {},
   "outputs": [],
   "source": []
  },
  {
   "cell_type": "code",
   "execution_count": null,
   "id": "2619e192",
   "metadata": {},
   "outputs": [],
   "source": []
  },
  {
   "cell_type": "code",
   "execution_count": null,
   "id": "1481cd79",
   "metadata": {},
   "outputs": [],
   "source": []
  },
  {
   "cell_type": "code",
   "execution_count": null,
   "id": "6127b38d",
   "metadata": {},
   "outputs": [],
   "source": []
  }
 ],
 "metadata": {
  "kernelspec": {
   "display_name": "Python 3 (ipykernel)",
   "language": "python",
   "name": "python3"
  },
  "language_info": {
   "codemirror_mode": {
    "name": "ipython",
    "version": 3
   },
   "file_extension": ".py",
   "mimetype": "text/x-python",
   "name": "python",
   "nbconvert_exporter": "python",
   "pygments_lexer": "ipython3",
   "version": "3.9.12"
  }
 },
 "nbformat": 4,
 "nbformat_minor": 5
}
