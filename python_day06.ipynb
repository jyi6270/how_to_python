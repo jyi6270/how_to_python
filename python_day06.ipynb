{
 "cells": [
  {
   "cell_type": "markdown",
   "id": "31df81d7",
   "metadata": {},
   "source": [
    "#### class (Object Oriented Programming)\n",
    "- 은닉화\n",
    "- 상속\n",
    "- 다형성\n",
    "- 추상화"
   ]
  },
  {
   "cell_type": "code",
   "execution_count": null,
   "id": "30bf3dc1",
   "metadata": {},
   "outputs": [],
   "source": [
    "'''\n",
    "함수 < 클래스(변수, 함수) < 모듈(xxxxx.py) < package\n",
    "\n",
    "클래스란?\n",
    "- 함수의 모음\n",
    "- 여러개의 함수와 공유 데이터(변수)를 묶어서 관리하는 템플릿\n",
    "- 구성: 함수 + 속성 + 초기화함수(생성자)\n",
    "\n",
    "class vs instance\n",
    "\n",
    "변수 = xxxx() # 인스턴스 생성\n",
    "변수.함수() # call\n",
    "변수.속성 # call\n",
    "\n",
    "결론: 파이썬의 모든 함수는 객체로 취급된다. 객체로 취급된다는 것은 클래스라는 의미.\n",
    "\n",
    "'''"
   ]
  },
  {
   "cell_type": "markdown",
   "id": "ab0794d0",
   "metadata": {},
   "source": [
    "- 사용자 정의 클래스 작성"
   ]
  },
  {
   "cell_type": "code",
   "execution_count": 30,
   "id": "f60fe076",
   "metadata": {},
   "outputs": [
    {
     "name": "stdout",
     "output_type": "stream",
     "text": [
      "초기화 함수로 instance 생성시 호출 되는 함수입니다.\n",
      "type -  <class '__main__.person'>\n",
      "\n",
      "caller - function\n",
      "인스턴스 소유의 함수\n",
      "인스턴스 소유의 함수 - something\n",
      "함수내에서 함수호출 - \n",
      "caller - variable\n",
      "jslim 24 m\n",
      "\n",
      "jslim\t24\tm\n"
     ]
    }
   ],
   "source": [
    "class person :\n",
    "    \n",
    "    cls_var = '클래스 소유의 변수'\n",
    "    \n",
    "    # initializer\n",
    "    # __xxxx__ (magic function)\n",
    "    # 인스턴스 소유의 변수란 초기화 함수내에 선언한 변수를 의미하고\n",
    "    # 변수의 scope 은 클래스 전역에서 사용이 가능하다\n",
    "    \n",
    "    def __init__(self, name, age, gender) :\n",
    "        print('초기화 함수로 instance 생성시 호출 되는 함수입니다.')\n",
    "        self.name = name\n",
    "        self.age = age\n",
    "        self.gender = gender\n",
    "        \n",
    "        \n",
    "    def doing(self):\n",
    "        print('인스턴스 소유의 함수')\n",
    "        self.something('함수내에서 함수호출 - ')\n",
    "        \n",
    "    def something(self, str) :\n",
    "        print('인스턴스 소유의 함수 - something')\n",
    "        print(str)\n",
    "\n",
    "    def personinfo(self) :\n",
    "        return self.name+'\\t'+str(self.age)+'\\t'+self.gender\n",
    "        \n",
    "    @classmethod\n",
    "    def classFunc(cls) :\n",
    "        print('해당 함수는 인스턴스 소유가 아닌 클래스 소유 - 인스턴스 소유의 함수, 변수 사용 불가')\n",
    "        \n",
    "obj = person('jslim', 24, 'm')\n",
    "print('type - ', type(obj))\n",
    "print()\n",
    "\n",
    "print('caller - function')\n",
    "obj.doing()\n",
    "\n",
    "print('caller - variable')\n",
    "print(obj.name, obj.age, obj.gender)\n",
    "print()\n",
    "\n",
    "print(obj.personinfo())"
   ]
  },
  {
   "cell_type": "code",
   "execution_count": 31,
   "id": "bfc2dfc4",
   "metadata": {},
   "outputs": [
    {
     "name": "stdout",
     "output_type": "stream",
     "text": [
      "클래스 탬플릿으로부터 여러개의 인스턴스 생성이 가능하다 - \n",
      "초기화 함수로 instance 생성시 호출 되는 함수입니다.\n",
      "초기화 함수로 instance 생성시 호출 되는 함수입니다.\n",
      "초기화 함수로 instance 생성시 호출 되는 함수입니다.\n",
      "인스턴스 정보를 출력 - \n",
      "김끼쁨\t26\tm\n",
      "정쌍환\t26\tf\n",
      "최찐형\t27\tm\n"
     ]
    }
   ],
   "source": [
    "print('클래스 탬플릿으로부터 여러개의 인스턴스 생성이 가능하다 - ')\n",
    "stu01 = person('김끼쁨', 26, 'm')\n",
    "stu02 = person('정쌍환', 26, 'f')\n",
    "stu03 = person('최찐형', 27, 'm')\n",
    "\n",
    "person_list = []\n",
    "person_list.append(stu01)\n",
    "person_list.append(stu02)\n",
    "person_list.append(stu03)\n",
    "\n",
    "print('인스턴스 정보를 출력 - ')\n",
    "for instance in person_list:\n",
    "    print(instance.personinfo())"
   ]
  },
  {
   "cell_type": "code",
   "execution_count": 32,
   "id": "15b704c2",
   "metadata": {},
   "outputs": [
    {
     "name": "stdout",
     "output_type": "stream",
     "text": [
      "클래스 소유 변수는 인스턴스 생성없이 클래스 이름으로 접근 가능하다 - \n",
      "cls 변수 출력 -  클래스 소유의 변수\n",
      "값을 변경합니다.\n",
      "값을 변경합니다.\n",
      "값을 변경합니다.\n",
      "클래스 소유 함수 호출 - \n",
      "해당 함수는 인스턴스 소유가 아닌 클래스 소유 - 인스턴스 소유의 함수, 변수 사용 불가\n",
      "인스턴스 소유의 함수\n",
      "인스턴스 소유의 함수 - something\n",
      "함수내에서 함수호출 - \n"
     ]
    }
   ],
   "source": [
    "print('클래스 소유 변수는 인스턴스 생성없이 클래스 이름으로 접근 가능하다 - ')\n",
    "print('cls 변수 출력 - ', person.cls_var)\n",
    "person.cls_var = '값을 변경합니다.'\n",
    "print(person.cls_var)\n",
    "\n",
    "print(stu01.cls_var)\n",
    "print(stu02.cls_var)\n",
    "\n",
    "print('클래스 소유 함수 호출 - ')\n",
    "person.classFunc()\n",
    "\n",
    "\n",
    "stu01.doing()"
   ]
  },
  {
   "cell_type": "code",
   "execution_count": 41,
   "id": "657fbe7e",
   "metadata": {},
   "outputs": [],
   "source": [
    "'''\n",
    "인스턴스 변수 - account_number, balance, InterestRate\n",
    "accountInfo() - 계좌정보를 출력\n",
    "withDraw() - 매개변수로 들어온 금액만큼 출금하여 잔액을 변경한다.(잔액이 부족하면 출금불가)\n",
    "deposit() - 잔액에 누적한다.\n",
    "print InterestRate() - 현재 잔액에 이자율을 계산하여 소수점 2자리까지 금액을 출력\n",
    "'''\n",
    "\n",
    "class account:\n",
    "    def __init__(self, account_number, balance, interestRate):\n",
    "        self.account_number = account_number\n",
    "        self.balance = balance\n",
    "        self.interestRate = interestRate\n",
    "    def accountInfo(self):\n",
    "        print('계좌번호: {}이며 현재 잔액은 :{}이고 이자율은 {}%입니다.'.format(self.account_number,\n",
    "                                                           self.balance,\n",
    "                                                           self.interestRate))\n",
    "    def withDraw(self, amount):\n",
    "        if self.balance > amount:\n",
    "            self.balance -= amount\n",
    "        else:\n",
    "            print('잔액이 부족합니다.')\n",
    "            \n",
    "    def deposit(self, amount: int):\n",
    "        self.balance += amount\n",
    "        print(self.balance)\n",
    "        \n",
    "    def printinterestRate(self):\n",
    "        print(self.balance + (self.balance * self.interestRate))\n"
   ]
  },
  {
   "cell_type": "code",
   "execution_count": 43,
   "id": "0b1be45f",
   "metadata": {},
   "outputs": [
    {
     "name": "stdout",
     "output_type": "stream",
     "text": [
      "caller - \n",
      "계좌번호: 123-1234-123456789이며 현재 잔액은 :500000이고 이자율은 0.02%입니다.\n",
      "잔액이 부족합니다.\n",
      "700000\n",
      "계좌번호: 123-1234-123456789이며 현재 잔액은 :700000이고 이자율은 0.02%입니다.\n",
      "계좌번호: 123-1234-123456789이며 현재 잔액은 :100000이고 이자율은 0.02%입니다.\n",
      "\n",
      "현재 잔액의 이자를 포함한 금액 확인 - \n",
      "102000.0\n"
     ]
    }
   ],
   "source": [
    "print('caller - ')\n",
    "acc = account('123-1234-123456789', 500000, 0.02)\n",
    "acc.accountInfo()\n",
    "acc.withDraw(600000)\n",
    "acc.deposit(200000)\n",
    "acc.accountInfo()\n",
    "acc.withDraw(600000)\n",
    "acc.accountInfo()\n",
    "print()\n",
    "print('현재 잔액의 이자를 포함한 금액 확인 - ')\n",
    "acc.printinterestRate()"
   ]
  },
  {
   "cell_type": "markdown",
   "id": "efbda71d",
   "metadata": {},
   "source": [
    "- 은닉화(encapsulation)\n",
    "- information hiding(정보 은닉)"
   ]
  },
  {
   "cell_type": "code",
   "execution_count": 51,
   "id": "03531b08",
   "metadata": {},
   "outputs": [],
   "source": [
    "class userDate(object) :\n",
    "    def setYear(self, year) :\n",
    "        if year < 0:\n",
    "            self.__year = 2022      #-- 언더바가 함수를 은닉화해서 private의 의미\n",
    "        else:\n",
    "            self.__year = year\n",
    "            \n",
    "    def getYear(self) :\n",
    "        return self.__year"
   ]
  },
  {
   "cell_type": "code",
   "execution_count": 55,
   "id": "71b651e6",
   "metadata": {},
   "outputs": [
    {
     "name": "stdout",
     "output_type": "stream",
     "text": [
      "instance create - \n",
      "year -  2050\n"
     ]
    }
   ],
   "source": [
    "print('instance create - ')\n",
    "\n",
    "obj = userDate()\n",
    "#obj.year = -2022  -- error\n",
    "obj.setYear(2050)\n",
    "print('year - ', obj.getYear())"
   ]
  },
  {
   "cell_type": "markdown",
   "id": "27906739",
   "metadata": {},
   "source": [
    "- 상속(inheritance)\n",
    "- is a ~\n",
    "- 부모는 추상적으로 범위가 넓어져야한다.\n",
    "- 자식은 구체적으로 범위가 좁혀져야한다."
   ]
  },
  {
   "cell_type": "code",
   "execution_count": 56,
   "id": "d5f17dc2",
   "metadata": {},
   "outputs": [],
   "source": [
    "# object - user_super - user_sub\n",
    "class user_super(object) :\n",
    "    def super_sayEcho(self, name):\n",
    "        print('>>> super', name+'님 안녕하세요~~')\n",
    "\n",
    "class user_sub(user_super) :\n",
    "    def sub_sayEcho(self, name):\n",
    "        print('>>> sub', name+'님 안녕하세요~~')"
   ]
  },
  {
   "cell_type": "code",
   "execution_count": 60,
   "id": "e2c3dddd",
   "metadata": {},
   "outputs": [
    {
     "name": "stdout",
     "output_type": "stream",
     "text": [
      ">>> super jslim님 안녕하세요~~\n",
      ">>> sub jslim님 안녕하세요~~\n"
     ]
    }
   ],
   "source": [
    "obj = user_sub()\n",
    "obj.super_sayEcho('jslim')\n",
    "obj.sub_sayEcho('jslim')"
   ]
  },
  {
   "cell_type": "code",
   "execution_count": 59,
   "id": "21a55990",
   "metadata": {},
   "outputs": [
    {
     "name": "stdout",
     "output_type": "stream",
     "text": [
      ">>> super jslim님 안녕하세요~~\n"
     ]
    }
   ],
   "source": [
    "obj = user_super()\n",
    "obj.super_sayEcho('jslim')\n",
    "#obj.sub_sayEcho('jslim')     #-- error 부모는 자식의 구성요소에 접근 X"
   ]
  },
  {
   "cell_type": "code",
   "execution_count": 67,
   "id": "02011367",
   "metadata": {},
   "outputs": [],
   "source": [
    "class person_vo(object):\n",
    "    def __init__(self, name, age, address):\n",
    "        self.name = name\n",
    "        self.age = age\n",
    "        self.address = address\n",
    "        \n",
    "    def person_info(self):\n",
    "        return self.name + '\\t' + str(self.age) + '\\t' + self.address\n",
    "\n",
    "class student_vo(person_vo):\n",
    "    def __init__(self, name, age, address, ssn) :\n",
    "        super().__init__(name, age, address)\n",
    "        self.ssn = ssn\n",
    "        \n",
    "    def student_info(self):\n",
    "        return super().person_info() + '\\t' + self.ssn\n",
    "\n",
    "class teacher_vo(person_vo) :\n",
    "    def __init__(self, name, age, address, subject) :\n",
    "        super().__init__(name, age, address)\n",
    "        self.subject = subject\n",
    "        \n",
    "    def teacher_info(self):\n",
    "        return super().person_info() + '\\t' + self.subject"
   ]
  },
  {
   "cell_type": "code",
   "execution_count": 68,
   "id": "29d2694e",
   "metadata": {},
   "outputs": [
    {
     "name": "stdout",
     "output_type": "stream",
     "text": [
      "stu info -  임정섭\t24\t광주\t1992\n",
      "tea info -  임정섭\t24\t광주\tPythonScripts\n"
     ]
    }
   ],
   "source": [
    "stu01 = student_vo('임정섭', 24, '광주', '1992')\n",
    "print('stu info - ', stu01.student_info())\n",
    "\n",
    "tea01 = teacher_vo('임정섭', 24, '광주', 'PythonScripts')\n",
    "print('tea info - ', tea01.teacher_info())\n"
   ]
  },
  {
   "cell_type": "code",
   "execution_count": null,
   "id": "f9124e31",
   "metadata": {},
   "outputs": [],
   "source": []
  }
 ],
 "metadata": {
  "kernelspec": {
   "display_name": "Python 3 (ipykernel)",
   "language": "python",
   "name": "python3"
  },
  "language_info": {
   "codemirror_mode": {
    "name": "ipython",
    "version": 3
   },
   "file_extension": ".py",
   "mimetype": "text/x-python",
   "name": "python",
   "nbconvert_exporter": "python",
   "pygments_lexer": "ipython3",
   "version": "3.9.12"
  }
 },
 "nbformat": 4,
 "nbformat_minor": 5
}
