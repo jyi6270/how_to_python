{
 "cells": [
  {
   "cell_type": "markdown",
   "id": "a4135fda",
   "metadata": {},
   "source": [
    "#### oop2"
   ]
  },
  {
   "cell_type": "code",
   "execution_count": 30,
   "id": "0733445c",
   "metadata": {},
   "outputs": [],
   "source": [
    "class person_vo(object) :\n",
    "    def __init__(self, name, age, address) : \n",
    "        self.__name    = name \n",
    "        self.__age     = age \n",
    "        self.__address = address \n",
    "    \n",
    "    def setName(self, name) : \n",
    "        self.__name = name \n",
    "    def getName(self) : \n",
    "        return self.__name \n",
    "    \n",
    "    def setAge(self, age) : \n",
    "        self.age = age \n",
    "    def getAge(self) : \n",
    "        return self.age \n",
    "    \n",
    "    def setAddress(self, address) : \n",
    "        self.__address = address \n",
    "    def getAddress(self) : \n",
    "        return self.__address\n",
    "    \n",
    "    def person_info(self) :\n",
    "        return self.__name +'\\t'+ str(self.__age) +'\\t'+ self.__address\n"
   ]
  },
  {
   "cell_type": "code",
   "execution_count": 31,
   "id": "eebe4f3d",
   "metadata": {},
   "outputs": [],
   "source": [
    "class student_vo(person_vo):\n",
    "    def __init__(self, name, age, address, ssn) :\n",
    "        super().__init__(name, age, address)\n",
    "        self.ssn = ssn\n",
    "        \n",
    "    def student_info(self):\n",
    "        return super().person_info() + '\\t' + self.ssn\n",
    "    \n",
    "    # overriding\n",
    "    def person_info(self) :\n",
    "        return super().person_info() + '\\t' + self.ssn"
   ]
  },
  {
   "cell_type": "code",
   "execution_count": 32,
   "id": "fd4a4558",
   "metadata": {},
   "outputs": [],
   "source": [
    "class teacher_vo(person_vo) :\n",
    "    def __init__(self, name, age, address, subject) :\n",
    "        super().__init__(name, age, address)\n",
    "        self.subject = subject\n",
    "        \n",
    "    def teacher_info(self):\n",
    "        return super().person_info() + '\\t' + self.subject\n",
    "    \n",
    "     # overriding\n",
    "    def person_info(self):\n",
    "        return super().person_info() + '\\t' + self.subject"
   ]
  },
  {
   "cell_type": "code",
   "execution_count": 33,
   "id": "dd623406",
   "metadata": {},
   "outputs": [
    {
     "name": "stdout",
     "output_type": "stream",
     "text": [
      "person_vo Instance create - \n",
      "섭섭해\t24\t광주\n"
     ]
    }
   ],
   "source": [
    "print('person_vo Instance create - ')\n",
    "perObj = person_vo('섭섭해', 24, '광주')\n",
    "# print(perObj.name) -- 멤버변수의 은닉화로 직접 접근 불가\n",
    "print(perObj.person_info())"
   ]
  },
  {
   "cell_type": "markdown",
   "id": "b83e3a60",
   "metadata": {},
   "source": [
    "- 다형성(overriding)\n",
    "- 상속관계에서 부모에 정의된 함수를 자식에서 재정의하는 것으로 구현부가 달라야 한다.\n",
    "- 부모에 정의된 함수의 인자의 수와 재정의된 함수의 인자의 수는 같아야 한다."
   ]
  },
  {
   "cell_type": "code",
   "execution_count": 34,
   "id": "438f875d",
   "metadata": {},
   "outputs": [
    {
     "name": "stdout",
     "output_type": "stream",
     "text": [
      "데이터 출력 - \n",
      "김기쁨\t26\t부천\t1992\n",
      "임정섭\t24\t서울\tpython\n",
      "김가영\t23\t천안\t1993\n",
      "overriding - \n",
      "데이터 출력 - \n",
      "김기쁨\t26\t부천\t1992\n",
      "임정섭\t24\t서울\tpython\n",
      "김가영\t23\t천안\t1993\n"
     ]
    }
   ],
   "source": [
    "person_list = []\n",
    "person_list.append(student_vo('김기쁨', 26, '부천', '1992'))\n",
    "person_list.append(teacher_vo('임정섭', 24, '서울', 'python'))\n",
    "person_list.append(student_vo('김가영', 23, '천안', '1993'))\n",
    "\n",
    "print('데이터 출력 - ')\n",
    "for idx, entity in enumerate(person_list) :\n",
    "    # print('idx - ', idx)\n",
    "    # print('entity - ', type(entity.__class__.__name__))\n",
    "    if entity.__class__.__name__ == 'student_vo' :\n",
    "        print(entity.student_info())\n",
    "    else:\n",
    "        print(entity.teacher_info())\n",
    "        \n",
    "        \n",
    "print('overriding - ')\n",
    "print('데이터 출력 - ')\n",
    "for idx, entity in enumerate(person_list):\n",
    "    print(entity.person_info())"
   ]
  },
  {
   "cell_type": "markdown",
   "id": "82786e27",
   "metadata": {},
   "source": [
    "- 추상화(추상클래스, 추상함수)\n",
    "- 클래스를 만드는 이유: 인스턴스를 생성하기 위해서\n",
    "- but 추상클래스 -> 인스턴스 생성이 불가"
   ]
  },
  {
   "cell_type": "code",
   "execution_count": 35,
   "id": "67a5830a",
   "metadata": {},
   "outputs": [],
   "source": [
    "from abc import *\n",
    "\n",
    "class animal(object, metaclass = ABCMeta) :\n",
    "    \n",
    "    @abstractmethod\n",
    "    def fly(self) :\n",
    "        pass\n",
    "    \n",
    "    @abstractmethod\n",
    "    def take_off(self) :\n",
    "        pass\n",
    "    \n",
    "    @abstractmethod\n",
    "    def landing(self) :\n",
    "        pass\n",
    "    \n",
    "    def non_abstract_function(self):              #-- 일반함수를 사용할 순 있지만 객체생성은 불가능\n",
    "        print('추상클래스에 정의된 일반함수')"
   ]
  },
  {
   "cell_type": "code",
   "execution_count": 37,
   "id": "94ed3064",
   "metadata": {},
   "outputs": [],
   "source": [
    "# 추상클래스는 객체 생성이 불가\n",
    "obj = animal()\n",
    "obj.fly()"
   ]
  },
  {
   "cell_type": "code",
   "execution_count": 39,
   "id": "8075010e",
   "metadata": {},
   "outputs": [],
   "source": [
    "class super_man(animal) :\n",
    "    def fly(self):\n",
    "        print('super_man 이 망토를 휘날리며 날아갑니다.')\n",
    "    \n",
    "    def take_off(self):\n",
    "        print('super_man 이 이륙한다.')\n",
    "    \n",
    "    def landing(self):\n",
    "        print('super_man 이 착륙한다.')"
   ]
  },
  {
   "cell_type": "code",
   "execution_count": 40,
   "id": "a053ed0b",
   "metadata": {},
   "outputs": [
    {
     "name": "stdout",
     "output_type": "stream",
     "text": [
      "super_man 이 망토를 휘날리며 날아갑니다.\n",
      "super_man 이 이륙한다.\n",
      "super_man 이 착륙한다.\n"
     ]
    }
   ],
   "source": [
    "man = super_man()\n",
    "man.fly()\n",
    "man.take_off()\n",
    "man.landing()"
   ]
  },
  {
   "cell_type": "code",
   "execution_count": 42,
   "id": "853cb827",
   "metadata": {},
   "outputs": [],
   "source": [
    "class bird(animal) :\n",
    "    def fly(self):\n",
    "        print('bird 이 망토를 휘날리며 날아갑니다.')\n",
    "    \n",
    "    def take_off(self):\n",
    "        print('bird 이 이륙한다.')\n",
    "    \n",
    "    def landing(self):\n",
    "        print('bird 이 착륙한다.')"
   ]
  },
  {
   "cell_type": "code",
   "execution_count": 44,
   "id": "131a63be",
   "metadata": {},
   "outputs": [
    {
     "name": "stdout",
     "output_type": "stream",
     "text": [
      "bird 이 망토를 휘날리며 날아갑니다.\n",
      "bird 이 이륙한다.\n",
      "bird 이 착륙한다.\n"
     ]
    }
   ],
   "source": [
    "bird = bird()\n",
    "bird.fly()\n",
    "bird.take_off()\n",
    "bird.landing()"
   ]
  },
  {
   "cell_type": "code",
   "execution_count": 45,
   "id": "0b6e25c9",
   "metadata": {},
   "outputs": [
    {
     "name": "stdout",
     "output_type": "stream",
     "text": [
      "super_man 이 망토를 휘날리며 날아갑니다.\n",
      "bird 이 망토를 휘날리며 날아갑니다.\n"
     ]
    }
   ],
   "source": [
    "animals = []\n",
    "animals.append(man)\n",
    "animals.append(bird)\n",
    "for entity in animals:\n",
    "    entity.fly()"
   ]
  },
  {
   "cell_type": "markdown",
   "id": "b568cf06",
   "metadata": {},
   "source": [
    "- 예외처리(Exception)\n",
    "- XXXXError\n",
    "- 발생되는 에러 중 사소한 에러라면 실행을 종료하지 말고 예외처리를 통해서 실행을 계속 이어나가는 방법"
   ]
  },
  {
   "cell_type": "code",
   "execution_count": 59,
   "id": "76c8e31d",
   "metadata": {},
   "outputs": [],
   "source": [
    "'''\n",
    "Exception(상위)  -- 다중 에러를 하나로 포함\n",
    "- AException\n",
    "- BException\n",
    "- ...\n",
    "\n",
    "try: 예외발생 코드를 정의\n",
    "\n",
    "except: 발생된 예외를 처리하는 곳으로 예외 발생시에만 실행되는 블럭\n",
    "\n",
    "else: 예외가 발생하지 않았을 때 실행되는 블럭\n",
    "\n",
    "finally: 예외발생 여부와 상관없이 실행되는 블럭\n",
    "\n",
    "'''\n",
    "def user_input():\n",
    "    try:\n",
    "        age = int(input('나이를 숫자로 입력하세요: '))\n",
    "    except Exception as e :\n",
    "        print(str(e))\n",
    "        print('악의적으로 문자를 넣지 말고 숫자를 넣어주세요')\n",
    "        user_input()\n",
    "    else :\n",
    "        print('your age is ', age, 'years old')\n",
    "    finally:\n",
    "        print('예외발생여부와 상관없이 수행하는 블럭입니다.')\n",
    "    "
   ]
  },
  {
   "cell_type": "code",
   "execution_count": 60,
   "id": "cb7936c4",
   "metadata": {},
   "outputs": [
    {
     "name": "stdout",
     "output_type": "stream",
     "text": [
      "나이를 숫자로 입력하세요: yongil\n",
      "invalid literal for int() with base 10: 'yongil'\n",
      "악의적으로 문자를 넣지 말고 숫자를 넣어주세요\n",
      "나이를 숫자로 입력하세요: 27\n",
      "your age is  27 years old\n",
      "예외발생여부와 상관없이 수행하는 블럭입니다.\n",
      "예외발생여부와 상관없이 수행하는 블럭입니다.\n"
     ]
    }
   ],
   "source": [
    "user_input()"
   ]
  },
  {
   "cell_type": "code",
   "execution_count": 69,
   "id": "c27993f8",
   "metadata": {},
   "outputs": [],
   "source": [
    "'''\n",
    "매개변수로 넘겨 받은 각 첨자번지의 값에 제곱한 결과를 출력한다.\n",
    "예외처리를 통한 마지막 print() 함수를 수행하게 하고 싶다면?\n",
    "'''\n",
    "def list_print(lst) :\n",
    "    for element in lst :\n",
    "        print('raw - ', element)\n",
    "        try:\n",
    "            print('squared - ', element ** 2)\n",
    "        except Exception as e :\n",
    "            print('제공할 수 있는 데이터가 아닙니다.')\n",
    "        \n",
    "    print('***function end***')\n",
    "    \n"
   ]
  },
  {
   "cell_type": "code",
   "execution_count": 70,
   "id": "76bc79ea",
   "metadata": {},
   "outputs": [
    {
     "name": "stdout",
     "output_type": "stream",
     "text": [
      "raw -  10\n",
      "squared -  100\n",
      "raw -  20\n",
      "squared -  400\n",
      "raw -  35\n",
      "squared -  1225\n",
      "raw -  jslim\n",
      "제공할 수 있는 데이터가 아닙니다.\n",
      "raw -  40\n",
      "squared -  1600\n",
      "raw -  50\n",
      "squared -  2500\n",
      "***function end***\n"
     ]
    }
   ],
   "source": [
    "tmp_list = [10, 20, 35, 'jslim', 40, 50]\n",
    "list_print(tmp_list)"
   ]
  },
  {
   "cell_type": "code",
   "execution_count": 73,
   "id": "c0c31d16",
   "metadata": {},
   "outputs": [],
   "source": [
    "# for loop 전체를 try 하면 예외 발생시 루프 중단\n",
    "def list_print(lst) :\n",
    "    try:\n",
    "        for element in lst :\n",
    "            print('raw - ', element)\n",
    "            print('squared - ', element ** 2)\n",
    "    except Exception as e :\n",
    "            print('제공할 수 있는 데이터가 아닙니다.')\n",
    "        \n",
    "    print('***function end***')"
   ]
  },
  {
   "cell_type": "code",
   "execution_count": 74,
   "id": "1481d147",
   "metadata": {},
   "outputs": [
    {
     "name": "stdout",
     "output_type": "stream",
     "text": [
      "raw -  10\n",
      "squared -  100\n",
      "raw -  20\n",
      "squared -  400\n",
      "raw -  35\n",
      "squared -  1225\n",
      "raw -  jslim\n",
      "제공할 수 있는 데이터가 아닙니다.\n",
      "***function end***\n"
     ]
    }
   ],
   "source": [
    "tmp_list = [10, 20, 35, 'jslim', 40, 50]\n",
    "list_print(tmp_list)"
   ]
  },
  {
   "cell_type": "markdown",
   "id": "2338033d",
   "metadata": {},
   "source": [
    "- 사용자정의 예외 클래스 만들기"
   ]
  },
  {
   "cell_type": "code",
   "execution_count": 75,
   "id": "c53f4d39",
   "metadata": {},
   "outputs": [
    {
     "name": "stdout",
     "output_type": "stream",
     "text": [
      "사용자 정의 예외클래스는 Exception 상속으로 만들 수 있다 - \n"
     ]
    }
   ],
   "source": [
    "print('사용자 정의 예외클래스는 Exception 상속으로 만들 수 있다 - ')\n",
    "class userNegativeDivisionError(Exception):\n",
    "    def __init__(self, msg) :\n",
    "        self.msg = msg"
   ]
  },
  {
   "cell_type": "code",
   "execution_count": 76,
   "id": "62b3f95b",
   "metadata": {},
   "outputs": [],
   "source": [
    "def positiveDivide(x,y) :\n",
    "    if(y < 0) :\n",
    "        raise userNegativeDivisionError('값을 음수로 나눌 수 없음')\n",
    "        \n",
    "    return x/y"
   ]
  },
  {
   "cell_type": "code",
   "execution_count": 78,
   "id": "468588a9",
   "metadata": {},
   "outputs": [
    {
     "name": "stdout",
     "output_type": "stream",
     "text": [
      "division by zero\n"
     ]
    }
   ],
   "source": [
    "try :\n",
    "    result = positiveDivide(10, 0)\n",
    "    print('result - ', result)\n",
    "except Exception as e :\n",
    "    print(str(e))\n",
    "#except zeroDivisionError as z :\n",
    "#    print(z.args[0])\n",
    "#except userNegativeDivisionError as u :\n",
    "#    print(u.msg)\n"
   ]
  },
  {
   "cell_type": "code",
   "execution_count": 77,
   "id": "ed39c636",
   "metadata": {},
   "outputs": [
    {
     "name": "stdout",
     "output_type": "stream",
     "text": [
      "예외발생으로 result 값을 초기값으로 세팅! 0\n"
     ]
    }
   ],
   "source": [
    "try :\n",
    "    result = positiveDivide(10, 0)\n",
    "    \n",
    "except Exception as e :\n",
    "    result = 0\n",
    "    print('예외발생으로 result 값을 초기값으로 세팅!', result)\n",
    "else:\n",
    "    print('result - ', result)"
   ]
  },
  {
   "cell_type": "code",
   "execution_count": null,
   "id": "8a1d9275",
   "metadata": {},
   "outputs": [],
   "source": []
  },
  {
   "cell_type": "code",
   "execution_count": null,
   "id": "3c830614",
   "metadata": {},
   "outputs": [],
   "source": []
  },
  {
   "cell_type": "code",
   "execution_count": null,
   "id": "eea56504",
   "metadata": {},
   "outputs": [],
   "source": []
  }
 ],
 "metadata": {
  "kernelspec": {
   "display_name": "Python 3 (ipykernel)",
   "language": "python",
   "name": "python3"
  },
  "language_info": {
   "codemirror_mode": {
    "name": "ipython",
    "version": 3
   },
   "file_extension": ".py",
   "mimetype": "text/x-python",
   "name": "python",
   "nbconvert_exporter": "python",
   "pygments_lexer": "ipython3",
   "version": "3.9.12"
  }
 },
 "nbformat": 4,
 "nbformat_minor": 5
}
