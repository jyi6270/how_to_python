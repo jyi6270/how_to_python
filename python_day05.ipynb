{
 "cells": [
  {
   "cell_type": "markdown",
   "id": "e5720875",
   "metadata": {},
   "source": [
    "#### 함수 function - method(oop)"
   ]
  },
  {
   "cell_type": "code",
   "execution_count": 2,
   "id": "cf95884e",
   "metadata": {},
   "outputs": [
    {
     "name": "stdout",
     "output_type": "stream",
     "text": [
      "누적 값 확인 -  25\n"
     ]
    }
   ],
   "source": [
    "data = [1,3,5,7,9]\n",
    "tot = 0\n",
    "for val in data :\n",
    "    tot += val\n",
    "print('누적 값 확인 - ', tot)"
   ]
  },
  {
   "cell_type": "code",
   "execution_count": 3,
   "id": "78fba1ec",
   "metadata": {},
   "outputs": [],
   "source": [
    "def total_calc() :\n",
    "    pass\n",
    "print('정의된 함수를 호출 - ', total_calc())"
   ]
  },
  {
   "cell_type": "code",
   "execution_count": 10,
   "id": "e027258b",
   "metadata": {},
   "outputs": [
    {
     "name": "stdout",
     "output_type": "stream",
     "text": [
      "정의된 함수를 호출 -  25\n",
      "total -  25\n"
     ]
    }
   ],
   "source": [
    "def total_calc(lst) :\n",
    "    total = 0\n",
    "    for val in lst:\n",
    "        total += val\n",
    "    return total\n",
    "\n",
    "print('정의된 함수를 호출 - ', total_calc(data))\n",
    "value = total_calc(data)\n",
    "print('total - ', value)"
   ]
  },
  {
   "cell_type": "code",
   "execution_count": 15,
   "id": "cc3cee23",
   "metadata": {},
   "outputs": [
    {
     "ename": "NameError",
     "evalue": "name 'tot_calc' is not defined",
     "output_type": "error",
     "traceback": [
      "\u001b[1;31m---------------------------------------------------------------------------\u001b[0m",
      "\u001b[1;31mNameError\u001b[0m                                 Traceback (most recent call last)",
      "Input \u001b[1;32mIn [15]\u001b[0m, in \u001b[0;36m<cell line: 3>\u001b[1;34m()\u001b[0m\n\u001b[0;32m      1\u001b[0m \u001b[38;5;28;01mimport\u001b[39;00m \u001b[38;5;21;01mimport_ipynb\u001b[39;00m\n\u001b[0;32m      2\u001b[0m \u001b[38;5;28;01mfrom\u001b[39;00m \u001b[38;5;21;01mpython_note\u001b[39;00m\u001b[38;5;21;01m.\u001b[39;00m\u001b[38;5;21;01muser_module\u001b[39;00m \u001b[38;5;28;01mimport\u001b[39;00m \u001b[38;5;241m*\u001b[39m\n\u001b[1;32m----> 3\u001b[0m \u001b[38;5;28mprint\u001b[39m(\u001b[43mtot_calc\u001b[49m(data))\n\u001b[0;32m      5\u001b[0m \u001b[38;5;28;01mimport\u001b[39;00m \u001b[38;5;21;01mimport_ipynb\u001b[39;00m\n\u001b[0;32m      6\u001b[0m \u001b[38;5;28;01mfrom\u001b[39;00m \u001b[38;5;21;01mpython_note\u001b[39;00m \u001b[38;5;28;01mimport\u001b[39;00m user_module\n",
      "\u001b[1;31mNameError\u001b[0m: name 'tot_calc' is not defined"
     ]
    }
   ],
   "source": [
    "import import_ipynb\n",
    "from python_note.user_module import *\n",
    "print(tot_calc(data))\n",
    "\n",
    "import import_ipynb\n",
    "from python_note import user_module\n",
    "print(user_module.tot_calc(data))\n"
   ]
  },
  {
   "cell_type": "markdown",
   "id": "39ed87e0",
   "metadata": {},
   "source": [
    "- 함수의 유형"
   ]
  },
  {
   "cell_type": "code",
   "execution_count": 17,
   "id": "f75f9edd",
   "metadata": {},
   "outputs": [
    {
     "name": "stdout",
     "output_type": "stream",
     "text": [
      "이제 함수를 살펴보겠습니다. 유형 1 - 인자 X, 리턴X\n"
     ]
    }
   ],
   "source": [
    "def printGreeting01() :\n",
    "    print('이제 함수를 살펴보겠습니다. 유형 1 - 인자 X, 리턴X')\n",
    "    \n",
    "printGreeting01()"
   ]
  },
  {
   "cell_type": "code",
   "execution_count": 18,
   "id": "de1868d3",
   "metadata": {},
   "outputs": [
    {
     "name": "stdout",
     "output_type": "stream",
     "text": [
      "유형2 - 인자 O, 리턴 X\n"
     ]
    }
   ],
   "source": [
    "def printGreeting02(msg) :\n",
    "    print('유형2 - 인자 O, 리턴 X')\n",
    "\n",
    "printGreeting02('jslim')\n",
    "#printGreeting02() - error"
   ]
  },
  {
   "cell_type": "code",
   "execution_count": 20,
   "id": "abb04f7e",
   "metadata": {},
   "outputs": [
    {
     "name": "stdout",
     "output_type": "stream",
     "text": [
      "유형 3 - 인자X, 리턴 O\n",
      "x-  1\n",
      "y-  2\n"
     ]
    }
   ],
   "source": [
    "def printGreeting03():\n",
    "    print('유형 3 - 인자X, 리턴 O')\n",
    "    return(1,2)\n",
    "\n",
    "#printGreeting03('jslim') - error\n",
    "x, y = printGreeting03()  #- 언패킹\n",
    "print('x- ', x)\n",
    "print('y- ', y)"
   ]
  },
  {
   "cell_type": "code",
   "execution_count": null,
   "id": "a44df26f",
   "metadata": {},
   "outputs": [],
   "source": [
    "# 인자로 들어온 값의 범위에서 홀수의 합, 짝수의 합을 리턴\n",
    "def printGreting04(start: int, end: int) :\n",
    "    print('유형 4 - 인자 O, 리턴 O')\n",
    "    oddSum = evenSum = 0\n",
    "    for val in range(start, end+1) :\n",
    "        if val %2 == 0 :\n",
    "            evenSum += val\n",
    "        else :\n",
    "            oddSum += val\n",
    "    return oddSum, evenSum      #-튜플로 리턴\n",
    "\n",
    "odd, even = printGreeting04(1, 100)\n",
    "print('홀수의 합 - ', odd)\n",
    "print('짝수의 합 - ', even)"
   ]
  },
  {
   "cell_type": "code",
   "execution_count": 23,
   "id": "1fb22dfe",
   "metadata": {},
   "outputs": [
    {
     "name": "stdout",
     "output_type": "stream",
     "text": [
      "www.naver.com\n"
     ]
    }
   ],
   "source": [
    "# 입력받은 문자열에 인터넷 주소를 반환하는 함수를 정의\n",
    "# - naver -> www.naver.com\n",
    "# - makeUrl()\n",
    "\n",
    "def makeUrl(str) :\n",
    "    return 'www.'+str+'.com'\n",
    "\n",
    "result = makeUrl('naver')\n",
    "print(result)"
   ]
  },
  {
   "cell_type": "code",
   "execution_count": 37,
   "id": "c4962a09",
   "metadata": {},
   "outputs": [
    {
     "name": "stdout",
     "output_type": "stream",
     "text": [
      "['www.naver.com', 'www.google.com', 'www.samsung.com', 'www.lg.com', 'www.sk.com', 'www.multicampus.com']\n"
     ]
    }
   ],
   "source": [
    "urls = ['naver', 'google', 'samsung', 'lg', 'sk', 'multicampus']\n",
    "#url_list = makeUrls(urls)\n",
    "#print(url_list)\n",
    "\n",
    "def makeUrls(lst : list) :\n",
    "    result = []\n",
    "    for url in lst:\n",
    "        result.append('www.'+url+'.com')\n",
    "    return result\n",
    "    \n",
    "url_list = makeUrls(urls)\n",
    "print(url_list)"
   ]
  },
  {
   "cell_type": "code",
   "execution_count": 35,
   "id": "e6ab49fb",
   "metadata": {},
   "outputs": [
    {
     "name": "stdout",
     "output_type": "stream",
     "text": [
      "['www.naver.com', 'www.google.com', 'www.samsung.com', 'www.lg.com', 'www.sk.com', 'www.multicampus.com']\n"
     ]
    }
   ],
   "source": [
    "#list Comprehension\n",
    "def makeUrls(lst):\n",
    "    result = ['www.'+url+'.com' for url in lst]\n",
    "    return result\n",
    "url_list = makeUrls(urls)\n",
    "print(url_list)"
   ]
  },
  {
   "cell_type": "code",
   "execution_count": 42,
   "id": "e3fbad49",
   "metadata": {},
   "outputs": [
    {
     "name": "stdout",
     "output_type": "stream",
     "text": [
      "[4, 10, 32, 6, 20]\n"
     ]
    }
   ],
   "source": [
    "# 숫자로 구성된 리스트를 입력받아 짝수들을 추출해서 반환하는 pickEven() 함수\n",
    "user_list = [3, 5, 4, 10, 32, 6, 9, 13, 20]\n",
    "\n",
    "def pickEven(lst):\n",
    "    result = [ val for val in lst if val %2 == 0]\n",
    "    return result\n",
    "\n",
    "even_list = pickEven(user_list)\n",
    "print(even_list)"
   ]
  },
  {
   "cell_type": "code",
   "execution_count": 45,
   "id": "761dc075",
   "metadata": {},
   "outputs": [
    {
     "name": "stdout",
     "output_type": "stream",
     "text": [
      "섭섭해님은 빨강색을 싫어합니다.\n",
      "김기쁨님은 하늘색을 좋아합니다.\n",
      "정상환님은 보라색을 싫어합니다.\n"
     ]
    }
   ],
   "source": [
    "# flag T = 좋아, F = 싫어하는 것\n",
    "# 출력예시) xxx님은 xxx색을 좋아(싫어)합니다\n",
    "def favorite_color(name, color, flag):\n",
    "    if flag == True :\n",
    "        print('{}님은 {}색을 좋아합니다.'.format(name, color))\n",
    "    else :\n",
    "        print('{}님은 {}색을 싫어합니다.'.format(name, color))\n",
    "\n",
    "\n",
    "favorite_color('섭섭해', '빨강', False)\n",
    "favorite_color('김기쁨', '하늘', True)\n",
    "favorite_color('정상환', '보라', False)\n"
   ]
  },
  {
   "cell_type": "code",
   "execution_count": 71,
   "id": "b1a2ad12",
   "metadata": {},
   "outputs": [
    {
     "name": "stdout",
     "output_type": "stream",
     "text": [
      "섭섭해 님은 빨간색 을 싫어합니다.\n",
      "김기쁨 님은 하늘색 을 좋아합니다.\n",
      "정상환 님은 보라색 을 싫어합니다.\n",
      "섭섭해님은 빨간색을 싫어합니다.\n",
      "김기쁨님은 하늘색을 좋아합니다.\n",
      "정상환님은 보라색을 싫어합니다.\n"
     ]
    }
   ],
   "source": [
    "user_info_list = [{'name': '섭섭해', 'color': '빨간색', 'flag' : False},\n",
    "                 {'name': '김기쁨', 'color': '하늘색', 'flag' : True},\n",
    "                 {'name': '정상환', 'color': '보라색', 'flag' : False}]\n",
    "\n",
    "def favorite_color_list01(lst: list):\n",
    "    for dict in lst:\n",
    "        if dict['flag'] == True:\n",
    "            print(dict['name'],'님은', dict['color'],'을 좋아합니다.')\n",
    "        else:\n",
    "            print(dict['name'],'님은', dict['color'],'을 싫어합니다.')\n",
    "        \n",
    "favorite_color_list01(user_info_list)\n",
    "\n",
    "\n",
    "\n",
    "def favorite_color_list02(lst: list):\n",
    "    for idx in range(len(lst)):\n",
    "        if lst[idx]['flag'] :\n",
    "            print('{}님은 {}을 좋아합니다.'.format(lst[idx]['name'], lst[idx]['color']))\n",
    "        else:\n",
    "            print('{}님은 {}을 싫어합니다.'.format(lst[idx]['name'], lst[idx]['color']))\n",
    "            \n",
    "favorite_color_list02(user_info_list)"
   ]
  },
  {
   "cell_type": "markdown",
   "id": "6a8e5789",
   "metadata": {},
   "source": [
    "- 가변인수 args, kwargs"
   ]
  },
  {
   "cell_type": "code",
   "execution_count": 72,
   "id": "b91a84c8",
   "metadata": {},
   "outputs": [
    {
     "name": "stdout",
     "output_type": "stream",
     "text": [
      "sum -  100\n",
      "1 과목의 평균은: 100.000000\n",
      "sum -  254\n",
      "3 과목의 평균은: 84.666667\n",
      "sum -  330\n",
      "5 과목의 평균은: 66.000000\n"
     ]
    }
   ],
   "source": [
    "# 하나의 *는 함수 인자로 튜플을 받는다는 뜻\n",
    "def average(*scores):\n",
    "    sum = 0\n",
    "    for idx in range(len(scores)) :\n",
    "        sum += scores[idx]\n",
    "    print('sum - ', sum)\n",
    "    avg = sum / len(scores)\n",
    "    print('%d 과목의 평균은: %f' % (len(scores), avg))\n",
    "\n",
    "average(100)\n",
    "average(100, 80, 74)\n",
    "average(100,80, 74, 23, 53)"
   ]
  },
  {
   "cell_type": "code",
   "execution_count": 74,
   "id": "968fa8f0",
   "metadata": {},
   "outputs": [
    {
     "name": "stdout",
     "output_type": "stream",
     "text": [
      "** 딕셔너리를 인자로 받는 것을 의미함 - \n",
      "함수 정의 worker - \n",
      "함수 호출 caller - \n",
      "key = name, value = jslim\n",
      "**************************************************\n",
      "key = name, value = jslim\n",
      "key = age, value = 24\n",
      "**************************************************\n",
      "key = name, value = jslim\n",
      "key = age, value = 24\n",
      "key = gender, value = m\n",
      "**************************************************\n"
     ]
    }
   ],
   "source": [
    "print('** 딕셔너리를 인자로 받는 것을 의미함 - ')\n",
    "print('함수 정의 worker - ')\n",
    "def kwargsDict(** kwargs) :\n",
    "    for key, value in kwargs.items() :\n",
    "        print('key = {}, value = {}'.format(key, value))\n",
    "    print('*'*50)\n",
    "\n",
    "print('함수 호출 caller - ')\n",
    "kwargsDict(name = 'jslim')\n",
    "kwargsDict(name = 'jslim', age = 24)\n",
    "kwargsDict(name = 'jslim', age = 24, gender = 'm')\n",
    "    "
   ]
  },
  {
   "cell_type": "code",
   "execution_count": 75,
   "id": "09ab0b30",
   "metadata": {},
   "outputs": [],
   "source": [
    "def printCoin():\n",
    "    for idx in range(0, 10):\n",
    "        print('coin')"
   ]
  },
  {
   "cell_type": "code",
   "execution_count": 78,
   "id": "be1e8637",
   "metadata": {},
   "outputs": [
    {
     "name": "stdout",
     "output_type": "stream",
     "text": [
      "coin\n",
      "coin\n",
      "coin\n",
      "coin\n",
      "coin\n",
      "coin\n",
      "coin\n",
      "coin\n",
      "coin\n",
      "coin\n"
     ]
    }
   ],
   "source": [
    "# type - function\n",
    "coin = printCoin\n",
    "coin()"
   ]
  },
  {
   "cell_type": "code",
   "execution_count": 79,
   "id": "a0372029",
   "metadata": {},
   "outputs": [
    {
     "name": "stdout",
     "output_type": "stream",
     "text": [
      "함수 호출 caller - \n",
      "args01 -  10\n",
      "args02 -  20\n",
      "args03 -  ('lim', 'kim', 'park', 'moon', 'cho')\n",
      "args04 -  {'age': 24, 'gender': 'f', 'address': 'seoul'}\n"
     ]
    }
   ],
   "source": [
    "# 만약 가변인수와 일반데이터가 혼용되어 있다면\n",
    "\n",
    "def mixType(args01, args02, *args03, **args04):\n",
    "    print('args01 - ', args01)\n",
    "    print('args02 - ', args02)\n",
    "    print('args03 - ', args03)\n",
    "    print('args04 - ', args04)\n",
    "\n",
    "    \n",
    "    \n",
    "print('함수 호출 caller - ')\n",
    "mixType(10, 20, 'lim', 'kim', 'park', 'moon', 'cho', age = 24, gender = 'f', address = 'seoul')"
   ]
  },
  {
   "cell_type": "markdown",
   "id": "41bddfc9",
   "metadata": {},
   "source": [
    "- 함수의 인자로 함수전달이 가능. 즉, 함수를 인자로 넘겨줄 수 있음"
   ]
  },
  {
   "cell_type": "code",
   "execution_count": 82,
   "id": "a983bd2b",
   "metadata": {},
   "outputs": [
    {
     "name": "stdout",
     "output_type": "stream",
     "text": [
      "함수 호출 caller - \n",
      "28\n",
      "3\n",
      "1.0\n"
     ]
    }
   ],
   "source": [
    "from statistics import *\n",
    "\n",
    "def userStatistics(func, *data):\n",
    "    if func == 'sum':\n",
    "        print(sum(data))\n",
    "    if func == 'mean':\n",
    "        print(mean(data))\n",
    "    if func == 'stdev':\n",
    "        print(stdev(data))\n",
    "        \n",
    "print('함수 호출 caller - ')\n",
    "userStatistics('sum',1, 2, 3, 4, 5, 6, 7)\n",
    "userStatistics('mean',1, 2, 3, 4, 5)\n",
    "userStatistics('stdev',1, 2, 3)"
   ]
  },
  {
   "cell_type": "code",
   "execution_count": 83,
   "id": "aa7cf8c0",
   "metadata": {},
   "outputs": [
    {
     "name": "stdout",
     "output_type": "stream",
     "text": [
      "함수 호출 caller - \n",
      "28\n",
      "3\n",
      "1.0\n"
     ]
    }
   ],
   "source": [
    "def userStatistics(func, *data):\n",
    "    print(func(data))\n",
    "    \n",
    "print('함수 호출 caller - ')\n",
    "userStatistics(sum,1, 2, 3, 4, 5, 6, 7)\n",
    "userStatistics(mean,1, 2, 3, 4, 5)\n",
    "userStatistics(stdev,1, 2, 3)"
   ]
  },
  {
   "cell_type": "markdown",
   "id": "f869b18b",
   "metadata": {},
   "source": [
    "- 지역 변수(Local Variable) : 블럭 내에서만 유효\n",
    "- 전역 변수(Global Variable) : 하위의 모든 함수에서 사용가능한 유효범위를 갖는다"
   ]
  },
  {
   "cell_type": "code",
   "execution_count": 85,
   "id": "34d0ba4a",
   "metadata": {},
   "outputs": [
    {
     "name": "stdout",
     "output_type": "stream",
     "text": [
      "caller - \n",
      "outer func print -  10\n",
      "inner func print -  100\n",
      "address -  2560839996880\n",
      "outer func print -  100\n",
      "address -  2560839996880\n"
     ]
    }
   ],
   "source": [
    "# 지역변수를 전역변수로 \n",
    "def func() :\n",
    "    global xxx\n",
    "    xxx = 100\n",
    "    print('inner func print - ', xxx)\n",
    "    print('address - ', id(xxx))\n",
    "    \n",
    "print('caller - ')\n",
    "xxx = 10\n",
    "print('outer func print - ', xxx)\n",
    "func()\n",
    "print('outer func print - ', xxx)\n",
    "print('address - ', id(xxx))"
   ]
  },
  {
   "cell_type": "markdown",
   "id": "ea6491a4",
   "metadata": {},
   "source": [
    "- 람다(lambda)\n",
    "- 형식) lambda 매개변수 : 표현식"
   ]
  },
  {
   "cell_type": "code",
   "execution_count": 86,
   "id": "4f76f57a",
   "metadata": {},
   "outputs": [
    {
     "name": "stdout",
     "output_type": "stream",
     "text": [
      "result -  30\n"
     ]
    }
   ],
   "source": [
    "def hap(x, y):\n",
    "    return x + y\n",
    "\n",
    "result = hap(10, 20)\n",
    "print('result - ', result)"
   ]
  },
  {
   "cell_type": "code",
   "execution_count": 93,
   "id": "f0e04691",
   "metadata": {},
   "outputs": [
    {
     "name": "stdout",
     "output_type": "stream",
     "text": [
      "result -  <function <lambda> at 0x0000025444DEF700>\n",
      "result -  30\n",
      "result -  30\n",
      "caller - \n",
      ">>>> 30\n"
     ]
    }
   ],
   "source": [
    "result = lambda x, y : x+y (10, 20)\n",
    "print('result - ', result)\n",
    "\n",
    "result = (lambda x, y : x+y) (10, 20)\n",
    "print('result - ', result)\n",
    "\n",
    "func = lambda x, y : x+y\n",
    "result = func(10, 20)\n",
    "print('result - ', result)\n",
    "\n",
    "\n",
    "\n",
    "def func_final(x, y, func):\n",
    "    print('>>>>', func(x,y))\n",
    "\n",
    "print('caller - ')\n",
    "func_final(10, 20, lambda x, y: x+y)"
   ]
  },
  {
   "cell_type": "markdown",
   "id": "fc9f69e4",
   "metadata": {},
   "source": [
    "- util 함수 (zip, map, reduce)\n",
    "- map: 리스트로부터 요소를 하나씩 꺼내서 함수를 적용시킨 다음, 그 결과를 새로운 리스트에 담아서 리턴\n",
    "- reduce: 누적값을 리턴하는 함수\n",
    "- filter: 조건에 만족하는 데이터만 리스트에 담아서 리턴"
   ]
  },
  {
   "cell_type": "code",
   "execution_count": 101,
   "id": "6323eda5",
   "metadata": {},
   "outputs": [
    {
     "name": "stdout",
     "output_type": "stream",
     "text": [
      "map -  [0, 1, 4, 9, 16]\n"
     ]
    }
   ],
   "source": [
    "# map(함수, 리스트)\n",
    "\n",
    "print('map - ', list(map(lambda x : x **2, range(5)) ))"
   ]
  },
  {
   "cell_type": "code",
   "execution_count": 102,
   "id": "24500793",
   "metadata": {},
   "outputs": [
    {
     "name": "stdout",
     "output_type": "stream",
     "text": [
      "reduce -  10\n",
      "reduce -  edcba\n"
     ]
    }
   ],
   "source": [
    "# reduce(함수, 시퀀스)\n",
    "\n",
    "from functools import reduce\n",
    "print('reduce - ', reduce(lambda x, y : x + y, range(5)))\n",
    "print('reduce - ', reduce(lambda x, y : y + x, 'abcde' ))"
   ]
  },
  {
   "cell_type": "code",
   "execution_count": 103,
   "id": "c7367f99",
   "metadata": {},
   "outputs": [
    {
     "name": "stdout",
     "output_type": "stream",
     "text": [
      "filter -  [0, 2, 4, 6, 8, 10, 12, 14, 16, 18, 20]\n"
     ]
    }
   ],
   "source": [
    "# filter(함수, 리스트)\n",
    "print('filter - ', list(filter(lambda x : x%2 == 0 , range(21))))\n"
   ]
  },
  {
   "cell_type": "code",
   "execution_count": 107,
   "id": "55c85efb",
   "metadata": {},
   "outputs": [
    {
     "name": "stdout",
     "output_type": "stream",
     "text": [
      "hint - \n",
      "hint -  12\n"
     ]
    }
   ],
   "source": [
    "print('hint - ')\n",
    "def user_length(word : str, num : int) -> None:\n",
    "    print('hint - ', len(word) * num)\n",
    "    \n",
    "    \n",
    "user_length('good Teacher', 1)"
   ]
  },
  {
   "cell_type": "code",
   "execution_count": null,
   "id": "164bcc7a",
   "metadata": {},
   "outputs": [],
   "source": []
  },
  {
   "cell_type": "code",
   "execution_count": null,
   "id": "98d756dd",
   "metadata": {},
   "outputs": [],
   "source": []
  },
  {
   "cell_type": "code",
   "execution_count": null,
   "id": "9cb0262e",
   "metadata": {},
   "outputs": [],
   "source": []
  },
  {
   "cell_type": "code",
   "execution_count": null,
   "id": "c5faab92",
   "metadata": {},
   "outputs": [],
   "source": []
  }
 ],
 "metadata": {
  "kernelspec": {
   "display_name": "Python 3 (ipykernel)",
   "language": "python",
   "name": "python3"
  },
  "language_info": {
   "codemirror_mode": {
    "name": "ipython",
    "version": 3
   },
   "file_extension": ".py",
   "mimetype": "text/x-python",
   "name": "python",
   "nbconvert_exporter": "python",
   "pygments_lexer": "ipython3",
   "version": "3.9.12"
  }
 },
 "nbformat": 4,
 "nbformat_minor": 5
}
