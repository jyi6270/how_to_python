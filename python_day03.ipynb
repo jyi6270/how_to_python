{
 "cells": [
  {
   "cell_type": "markdown",
   "id": "62cb98c1",
   "metadata": {},
   "source": [
    "#### boolean type\n",
    "- True | False\n",
    "- 논리연산자( not, and, or )\n",
    "- 비교연산자( ~  , &  , |  )\n",
    "- '', [], (), {}, 0, None -> False\n",
    "- 0이 아닌 값들은 True"
   ]
  },
  {
   "cell_type": "code",
   "execution_count": 4,
   "id": "885e5cce",
   "metadata": {},
   "outputs": [
    {
     "name": "stdout",
     "output_type": "stream",
     "text": [
      "bitwise -  0\n",
      "bitwise -  5\n",
      "bitwise -  False\n",
      "bitwise -  True\n",
      "boolean -  True\n",
      "\n",
      "bool type -  False False False\n",
      "\n",
      "bool type -  1 0\n"
     ]
    }
   ],
   "source": [
    "a = 5 #0101\n",
    "b = 0 #0000\n",
    "print('bitwise - ', a&b)\n",
    "print('bitwise - ', a|b)\n",
    "\n",
    "print('bitwise - ', bool(a&b))\n",
    "print('bitwise - ', bool(a|b))\n",
    "print('boolean - ', bool(-1))\n",
    "print()\n",
    "\n",
    "tmp_list = []\n",
    "tmp_str = ''\n",
    "tmp_dict = {}\n",
    "print('bool type - ', bool(tmp_list), bool(tmp_str), bool(tmp_dict))\n",
    "print()\n",
    "\n",
    "flag = True\n",
    "print('bool type - ', int(flag), int(bool(tmp_list)))    # semi 불리언, 1 = 데이터가 있음\n",
    "\n"
   ]
  },
  {
   "cell_type": "code",
   "execution_count": 7,
   "id": "068c0258",
   "metadata": {},
   "outputs": [
    {
     "name": "stdout",
     "output_type": "stream",
     "text": [
      "논리연산자 -  and, or, not\n",
      "and -  False\n",
      "or -  True\n",
      "not -  False\n"
     ]
    }
   ],
   "source": [
    "print('논리연산자 -  and, or, not')\n",
    "true_flag = True\n",
    "false_flag = False\n",
    "\n",
    "print('and - ', true_flag and false_flag)\n",
    "print('or - ', true_flag or flase_flag)\n",
    "print('not - ', not true_flag)"
   ]
  },
  {
   "cell_type": "markdown",
   "id": "a4868ddc",
   "metadata": {},
   "source": [
    "#### date, datetime type\n",
    "- install.packages() = conda install | pip install  # 아나콘다 명령프롬프트 - 관리자권한 실행\n",
    "- library() = import, from ~ import ~\n",
    "- xxxxx.py(module) - 변수, 함수\n",
    "- 여러개의 모듈을 같은 네임스페이스로 관리 - package\n",
    "- 함수 < 모듈 < 패키지\n",
    "- 형식) import 모듈이름\n",
    "- 형식) from 패키지명, 모듈 import 함수, 클래스\n",
    "- 형식) from 패키지명 import 모듈\n",
    "- 형식) from 모듈 import 함수, 클래스"
   ]
  },
  {
   "cell_type": "code",
   "execution_count": null,
   "id": "0f86883b",
   "metadata": {},
   "outputs": [],
   "source": [
    "from datetime import date, datetime"
   ]
  },
  {
   "cell_type": "code",
   "execution_count": 12,
   "id": "6398b67d",
   "metadata": {},
   "outputs": [
    {
     "name": "stdout",
     "output_type": "stream",
     "text": [
      "type -  <class 'datetime.date'> 2022-09-26\n",
      "year -  2022 9 26\n",
      "\n",
      "type -  <class 'datetime.datetime'> 2022-09-26 10:14:34.949678\n",
      "year month day -  2022 9 26\n",
      "hour minute second -  10 14 34\n"
     ]
    }
   ],
   "source": [
    "today = date.today()\n",
    "print('type - ', type(today), today)\n",
    "print('year - ', today.year, today.month, today.day)\n",
    "print()\n",
    "\n",
    "today_time = datetime.today()\n",
    "print('type - ', type(today_time), today_time)\n",
    "print('year month day - ', today_time.year, today_time.month, today_time.day)\n",
    "print('hour minute second - ', today_time.hour, today_time.minute, today_time.second)"
   ]
  },
  {
   "cell_type": "code",
   "execution_count": 4,
   "id": "5a6945c2",
   "metadata": {},
   "outputs": [],
   "source": [
    "# 날짜에 대한 연산을 도와주는 함수\n",
    "from datetime import timedelta\n",
    "from dateutil.relativedelta import relativedelta"
   ]
  },
  {
   "cell_type": "code",
   "execution_count": 10,
   "id": "7f0f585d",
   "metadata": {},
   "outputs": [
    {
     "name": "stdout",
     "output_type": "stream",
     "text": [
      "type -  <class 'datetime.timedelta'>\n",
      "type -  <class 'datetime.timedelta'>\n",
      "\n"
     ]
    },
    {
     "ename": "NameError",
     "evalue": "name 'today' is not defined",
     "output_type": "error",
     "traceback": [
      "\u001b[1;31m---------------------------------------------------------------------------\u001b[0m",
      "\u001b[1;31mNameError\u001b[0m                                 Traceback (most recent call last)",
      "Input \u001b[1;32mIn [10]\u001b[0m, in \u001b[0;36m<cell line: 16>\u001b[1;34m()\u001b[0m\n\u001b[0;32m     14\u001b[0m months \u001b[38;5;241m=\u001b[39m relativedelta(months \u001b[38;5;241m=\u001b[39m \u001b[38;5;241m2\u001b[39m)\n\u001b[0;32m     15\u001b[0m years \u001b[38;5;241m=\u001b[39m relativedelta(years \u001b[38;5;241m=\u001b[39m \u001b[38;5;241m2\u001b[39m)\n\u001b[1;32m---> 16\u001b[0m \u001b[38;5;28mprint\u001b[39m(\u001b[43mtoday\u001b[49m \u001b[38;5;241m+\u001b[39m days, today \u001b[38;5;241m+\u001b[39m months, today \u001b[38;5;241m+\u001b[39m years)\n",
      "\u001b[1;31mNameError\u001b[0m: name 'today' is not defined"
     ]
    }
   ],
   "source": [
    "# today + 1     -- error\n",
    "# timedelta는 day에 대한 연산 작업만 제공\n",
    "days = timedelta(days = 2)\n",
    "print('type - ', type(days))\n",
    "print(today + days)\n",
    "\n",
    "days = timedelta(days = -2)\n",
    "print('type - ', type(days))\n",
    "print(today + days)\n",
    "print()\n",
    "\n",
    "# day 뿐만 아니라 연월일까지 하려면 relativedelta\n",
    "days = relativedelta(days = 2)\n",
    "months = relativedelta(months = 2)\n",
    "years = relativedelta(years = 2)\n",
    "print(today + days, today + months, today + years)"
   ]
  },
  {
   "cell_type": "code",
   "execution_count": 23,
   "id": "fab18095",
   "metadata": {},
   "outputs": [
    {
     "name": "stdout",
     "output_type": "stream",
     "text": [
      "type -  <class 'datetime.datetime'>\n",
      "type -  <class 'datetime.datetime'>\n"
     ]
    }
   ],
   "source": [
    "# 특정날짜 생성시 문자열을 날짜로\n",
    "from dateutil.parser import parse\n",
    "user_date = parse('2022-09-26')\n",
    "print('type - ', type(user_date))\n",
    "\n",
    "today = datetime.today()\n",
    "print('type - ', type(today))"
   ]
  },
  {
   "cell_type": "code",
   "execution_count": 26,
   "id": "f593a361",
   "metadata": {},
   "outputs": [
    {
     "name": "stdout",
     "output_type": "stream",
     "text": [
      "문자 -> 날짜 -  2022-09-26 00:00:00\n",
      "<class 'datetime.datetime'>\n",
      "날짜 -> 문자 -  09-26-2022 <class 'str'>\n"
     ]
    }
   ],
   "source": [
    "# 타입변환을 위한 함수 strftime(), strptime()\n",
    "str_date = '2022-09-26'\n",
    "\n",
    "user_date = datetime.strptime(str_date, '%Y-%m-%d')\n",
    "print('문자 -> 날짜 - ', datetime.strptime(str_date, '%Y-%m-%d'))\n",
    "print(type(datetime.strptime(str_date, '%Y-%m-%d')))\n",
    "\n",
    "print('날짜 -> 문자 - ', user_date.strftime('%m-%d-%Y'), type(user_date.strftime('%m-%d-%Y')))\n"
   ]
  },
  {
   "cell_type": "markdown",
   "id": "92f35469",
   "metadata": {},
   "source": [
    "#### input 함수"
   ]
  },
  {
   "cell_type": "code",
   "execution_count": null,
   "id": "da7d31c5",
   "metadata": {},
   "outputs": [],
   "source": [
    "name = input('enter your name : ')\n",
    "name"
   ]
  },
  {
   "cell_type": "code",
   "execution_count": null,
   "id": "1277275e",
   "metadata": {},
   "outputs": [],
   "source": [
    "score = int(input('enter your score: '))\n",
    "print('type - ', score *3, type(score))"
   ]
  },
  {
   "cell_type": "markdown",
   "id": "7e2bb865",
   "metadata": {},
   "source": [
    "#### 제어구문\n",
    "- if ~\n",
    "- 중첩형식 가능\n",
    "- 블럭 :\n",
    "- 들여쓰기(Indent)\n",
    "- elif ~\n",
    "- if ~ in"
   ]
  },
  {
   "cell_type": "code",
   "execution_count": 1,
   "id": "60f53036",
   "metadata": {},
   "outputs": [
    {
     "name": "stdout",
     "output_type": "stream",
     "text": [
      "점수를 입력하세요 : 30\n",
      "과락\n"
     ]
    }
   ],
   "source": [
    "score = int(input('점수를 입력하세요 : '))\n",
    "if score >= 60 :\n",
    "    print('통과')\n",
    "else :\n",
    "    print('과락')"
   ]
  },
  {
   "cell_type": "code",
   "execution_count": 2,
   "id": "ebdf700e",
   "metadata": {},
   "outputs": [
    {
     "name": "stdout",
     "output_type": "stream",
     "text": [
      "점수를 입력하세요 : 30\n",
      "F\n"
     ]
    }
   ],
   "source": [
    "score = int(input('점수를 입력하세요 : '))\n",
    "if score >= 90 :\n",
    "    print('A')\n",
    "elif score >= 80 :\n",
    "    print('B')\n",
    "elif score >= 70 :\n",
    "    print('C')\n",
    "elif score >= 60 :\n",
    "    print('D')\n",
    "else :\n",
    "    print('F')"
   ]
  },
  {
   "cell_type": "markdown",
   "id": "69b162df",
   "metadata": {},
   "source": [
    "- input 함수를 이용해서 년도를 입력받고 해당 년도가 윤년인지 아닌지를 판단\n",
    "- 조건) 4의 배수이고 100의 배수가 아니거나 400의 배수일 때"
   ]
  },
  {
   "cell_type": "code",
   "execution_count": 3,
   "id": "c6226ebe",
   "metadata": {},
   "outputs": [
    {
     "name": "stdout",
     "output_type": "stream",
     "text": [
      "연도를 입력하세요 : 2000\n",
      "윤년\n"
     ]
    }
   ],
   "source": [
    "year = int(input('연도를 입력하세요 : '))\n",
    "if (year%4 == 0) & ~(year%100 == 0) | (year%400 == 0):\n",
    "    print('윤년')\n",
    "else:\n",
    "    print('평년')"
   ]
  },
  {
   "cell_type": "code",
   "execution_count": 4,
   "id": "7c018e3f",
   "metadata": {},
   "outputs": [
    {
     "name": "stdout",
     "output_type": "stream",
     "text": [
      "지역 입력: 광주\n",
      "광주 지역은 포함되지 않습니다.\n"
     ]
    }
   ],
   "source": [
    "area = ['천안', '세종', '대구']\n",
    "region = str(input('지역 입력: '))\n",
    "\n",
    "if region in area :\n",
    "    print('exist')\n",
    "else :\n",
    "    print('{} 지역은 포함되지 않습니다.'.format(region))"
   ]
  },
  {
   "cell_type": "code",
   "execution_count": 5,
   "id": "e1af53c2",
   "metadata": {},
   "outputs": [
    {
     "ename": "SyntaxError",
     "evalue": "invalid syntax (2910093133.py, line 1)",
     "output_type": "error",
     "traceback": [
      "\u001b[1;36m  Input \u001b[1;32mIn [5]\u001b[1;36m\u001b[0m\n\u001b[1;33m    area = ['천안': 100, '세종': 200, '대구': 300]\u001b[0m\n\u001b[1;37m                ^\u001b[0m\n\u001b[1;31mSyntaxError\u001b[0m\u001b[1;31m:\u001b[0m invalid syntax\n"
     ]
    }
   ],
   "source": [
    "area = ['천안': 100, '세종': 200, '대구': 300]\n",
    "region = str(input('지역 입력: '))\n",
    "\n",
    "if region in area :\n",
    "    print('exist')\n",
    "else :\n",
    "    print('{} 지역은 포함되지 않습니다.'.format(region))"
   ]
  },
  {
   "cell_type": "markdown",
   "id": "00d0a9d2",
   "metadata": {},
   "source": [
    "- 중첩구문을 사용한다면?"
   ]
  },
  {
   "cell_type": "code",
   "execution_count": 7,
   "id": "4e0d72c0",
   "metadata": {},
   "outputs": [
    {
     "name": "stdout",
     "output_type": "stream",
     "text": [
      "학점 입력: B\n",
      "점수 입력: 90\n",
      "장학금 50%\n"
     ]
    }
   ],
   "source": [
    "# A학점이면서 90 이상의 점수이면 장학금 100%\n",
    "# A학점이면서 80 이상의 점수이면 장학금 80%\n",
    "# A학점이면서 80 미만의 점수이면 장학금 70%\n",
    "# A학점이 아니면 장학금 50%\n",
    "\n",
    "grade = str(input('학점 입력: '))\n",
    "score = int(input('점수 입력: '))\n",
    "if grade == 'A' and score >= 90:\n",
    "    print('장학금 100%')\n",
    "elif grade == 'A' and score >= 80:\n",
    "    print('장학금 80%')\n",
    "elif grade == 'A' and score < 80 :\n",
    "    print('장학금 70%')\n",
    "else :\n",
    "    print('장학금 50%')"
   ]
  },
  {
   "cell_type": "code",
   "execution_count": 9,
   "id": "db457829",
   "metadata": {},
   "outputs": [
    {
     "name": "stdout",
     "output_type": "stream",
     "text": [
      "학점 입력: A\n",
      "점수 입력: 70\n",
      "장학금 70%\n"
     ]
    }
   ],
   "source": [
    "grade = str(input('학점 입력: '))\n",
    "score = int(input('점수 입력: '))\n",
    "if grade == 'A':\n",
    "    if score >= 90:\n",
    "        print('장학금 100%')\n",
    "    elif score >= 80:\n",
    "        print('장학금 80%')\n",
    "    else:\n",
    "        print('장학금 70%')\n",
    "else:\n",
    "    print('장학금 50%')"
   ]
  },
  {
   "cell_type": "markdown",
   "id": "cb58bcd8",
   "metadata": {},
   "source": [
    "- 3항 연산자: if ~ else 한 줄로 표현: 변수 = 참 조건식 else 거짓"
   ]
  },
  {
   "cell_type": "code",
   "execution_count": 10,
   "id": "c0cdf226",
   "metadata": {},
   "outputs": [
    {
     "name": "stdout",
     "output_type": "stream",
     "text": [
      "result -  18\n",
      "\n",
      "3항 연산으로 구현하다면 ? - 18\n"
     ]
    }
   ],
   "source": [
    "num = 9\n",
    "result = 0\n",
    "if num >= 5 :\n",
    "    result = num *2\n",
    "else :\n",
    "    result = num +2\n",
    "\n",
    "print('result - ', result)\n",
    "print()\n",
    "\n",
    "result = num*2 if num >=5 else num+2\n",
    "print('3항 연산으로 구현하다면 ? -', result)"
   ]
  },
  {
   "cell_type": "markdown",
   "id": "da067bf5",
   "metadata": {},
   "source": [
    "- in, not in"
   ]
  },
  {
   "cell_type": "code",
   "execution_count": 11,
   "id": "0b9cdbf2",
   "metadata": {},
   "outputs": [],
   "source": [
    "tmp_list = [10, 20, 30]\n",
    "tmp_set = {40, 50, 60, 70}\n",
    "tmp_tuple = (10, 12, 14)\n",
    "tmp_dict = {'name' : 'jslim', 'city': 'seoul', 'grade': 'A'}"
   ]
  },
  {
   "cell_type": "code",
   "execution_count": 13,
   "id": "21a694e8",
   "metadata": {},
   "outputs": [
    {
     "name": "stdout",
     "output_type": "stream",
     "text": [
      "False\n",
      "True\n",
      "\n",
      "True\n",
      "False\n",
      "\n",
      "False\n",
      "True\n",
      "\n",
      "dict는 키의 유무를 판단 - \n",
      "True\n",
      "False\n",
      "dict 데이터의 유무를 판단 - \n",
      "False\n",
      "True\n"
     ]
    }
   ],
   "source": [
    "print( 40 in tmp_list)\n",
    "print( 40 not in tmp_list)\n",
    "print()\n",
    "\n",
    "print(40 in tmp_set)\n",
    "print(40 not in tmp_set)\n",
    "print()\n",
    "\n",
    "print(40 in tmp_tuple)\n",
    "print(40 not in tmp_tuple)\n",
    "print()\n",
    "\n",
    "print('dict는 키의 유무를 판단 - ')\n",
    "print('name' in tmp_dict)\n",
    "print('name' not in tmp_dict)\n",
    "\n",
    "print('dict 데이터의 유무를 판단 - ')\n",
    "print('name' in tmp_dict.values())\n",
    "print('name' not in tmp_dict.values())"
   ]
  },
  {
   "cell_type": "code",
   "execution_count": 15,
   "id": "bfe056e9",
   "metadata": {},
   "outputs": [
    {
     "name": "stdout",
     "output_type": "stream",
     "text": [
      "점수 입력: 40\n",
      "20\n"
     ]
    }
   ],
   "source": [
    "# 사용자로부터 하나의 값을 입력받은 후 \n",
    "# 해당 값에 20을 뺀 값을 출력하라. \n",
    "# 단 출력 값의 범위는 0~255이다. \n",
    "# 예를 들어 결괏값이 0보다 작은 값이되는 경우 0을 출력하고 \n",
    "# 255보다 큰 값이 되는 경우 255를 출력해야 한다.\n",
    "\n",
    "score = int(input('점수 입력: '))\n",
    "result = score -20 \n",
    "if result < 0 :\n",
    "    print('0')\n",
    "elif result > 255 :\n",
    "    print('255')\n",
    "else:\n",
    "    print(result)"
   ]
  },
  {
   "cell_type": "code",
   "execution_count": 17,
   "id": "f7352c4e",
   "metadata": {},
   "outputs": [
    {
     "name": "stdout",
     "output_type": "stream",
     "text": [
      "현재시간 : 1000\n",
      "정각입니다.\n",
      "\n",
      "정각입니다.\n"
     ]
    }
   ],
   "source": [
    "# 사용자로부터 입력 받은 시간이 정각인지 판별하라.\n",
    "# 현재시간 : 02:00\n",
    "# 현재시간 : 03:10\n",
    "\n",
    "input_time = input('현재시간 : ')\n",
    "if input_time.endswith('00') :\n",
    "    print('정각입니다.')\n",
    "else:\n",
    "    print('정각이 아닙니다.')\n",
    "\n",
    "print()\n",
    "if input_time[-2:] == \"00\":\n",
    "    print('정각입니다.')\n",
    "else:\n",
    "    print('정각이 아닙니다.')"
   ]
  },
  {
   "cell_type": "code",
   "execution_count": 22,
   "id": "a8cb8d85",
   "metadata": {},
   "outputs": [
    {
     "name": "stdout",
     "output_type": "stream",
     "text": [
      "과일: 바나나\n",
      "오답입니다.\n"
     ]
    }
   ],
   "source": [
    "# 사용자로 입력받은 단어가 아래 fruit 리스트에 포함되어\n",
    "# 있는지를 확인하라. \n",
    "# 포함되었다면 \"정답입니다\"를 아닐 경우 \"오답입니다\" 출력하라.\n",
    "fruit = [\"사과\", \"포도\", \"홍시\"]\n",
    "\n",
    "input_fruit = input('과일: ')\n",
    "result = '정답입니다.' if input_fruit in fruit else '오답입니다.'\n",
    "print(result)"
   ]
  },
  {
   "cell_type": "code",
   "execution_count": 27,
   "id": "0be694c4",
   "metadata": {},
   "outputs": [
    {
     "name": "stdout",
     "output_type": "stream",
     "text": [
      "전화번호: 010-0000-0000\n",
      "X\n"
     ]
    }
   ],
   "source": [
    "# 011 SK , 016 KTF, 019 LGU\n",
    "# input 함수를 이용하여 011-1234-1234\n",
    "# 통신사를 판단하는 구문을 작성한다면?\n",
    "\n",
    "input_phone = input('전화번호: ')\n",
    "if input_phone.startswith('011'):\n",
    "    print('SK')\n",
    "elif input_phone.startswith('016'):\n",
    "    print('KTF')\n",
    "elif input_phone.startswith('019'):\n",
    "    print('LGU')\n",
    "else :\n",
    "    print('X')\n"
   ]
  },
  {
   "cell_type": "code",
   "execution_count": 29,
   "id": "07fe125c",
   "metadata": {},
   "outputs": [
    {
     "name": "stdout",
     "output_type": "stream",
     "text": [
      "else\n"
     ]
    }
   ],
   "source": [
    "brand = input_phone.split('-')[0]\n",
    "if brand == '011' :\n",
    "    print('SK')\n",
    "elif brand == '016' :\n",
    "    print('KTF')\n",
    "elif brand == '019' :\n",
    "    print('LGU')\n",
    "else :\n",
    "    print('else')"
   ]
  },
  {
   "cell_type": "code",
   "execution_count": 39,
   "id": "41be352a",
   "metadata": {},
   "outputs": [
    {
     "name": "stdout",
     "output_type": "stream",
     "text": [
      "x\n"
     ]
    }
   ],
   "source": [
    "print('SK') if brand == '011' else print('KTF') if brand == '016' else print('LGU') if brand == '019' else print('x')"
   ]
  },
  {
   "cell_type": "code",
   "execution_count": 44,
   "id": "7b475743",
   "metadata": {},
   "outputs": [
    {
     "name": "stdout",
     "output_type": "stream",
     "text": [
      "우편번호 입력: 019000\n",
      "노원구\n"
     ]
    }
   ],
   "source": [
    "# 우편번호는 6자리고 구성되는데는 \n",
    "# 예를 들어) 서울의 경우 01 로 시작하고 구별로 인덱스가 부여된다고 가정하자\n",
    "# 0 강북구, 1 강북구, 2 강북구, 3 도봉구, 4 도봉구, 5 도봉구, 6 노원구, 7 노원구, 8 노원구, 9 노원구\n",
    "# 사용자로부터 6자리 우편번호를 입력받고 구를 판별하라\n",
    "# 예시) 014000 이면 도봉구\n",
    "\n",
    "input_post = input('우편번호 입력: ')\n",
    "if input_post[:3] in ['010', '011', '012']:\n",
    "    print('강북구')\n",
    "elif input_post[:3] in ['013', '014', '015']:\n",
    "    print('도봉구')\n",
    "elif input_post[:3] in ['016', '017', '018', '019']:\n",
    "    print('노원구')"
   ]
  },
  {
   "cell_type": "code",
   "execution_count": 46,
   "id": "8e174d13",
   "metadata": {},
   "outputs": [
    {
     "name": "stdout",
     "output_type": "stream",
     "text": [
      "주민등록번호 입력: 960622-1111111\n",
      "남자\n"
     ]
    }
   ],
   "source": [
    "# 주민등록번호 뒷 자리 7자리 중 첫째 자리는 성별을 나타내는데\n",
    "# 1, 3은 남자 2, 4는 여자를 의미한다. \n",
    "# 사용자로부터 13자리의 주민등록번호를 입력 받은 후 성별 (남자, 여자)를 출력하는 프로그램을 작성하라.\n",
    "# >> 주민등록번호: 821010-1635210\n",
    "\n",
    "input_code = input('주민등록번호 입력: ')\n",
    "gender = input_code.split('-')[1][0]\n",
    "if gender in ['1', '3']:\n",
    "    print('남자')\n",
    "elif gender in ['2', '4']:\n",
    "    print('여자')"
   ]
  },
  {
   "cell_type": "code",
   "execution_count": 54,
   "id": "80e27f9a",
   "metadata": {},
   "outputs": [
    {
     "name": "stdout",
     "output_type": "stream",
     "text": [
      "주민등록번호 입력: 960622-1111111\n",
      "부산\n"
     ]
    }
   ],
   "source": [
    "# 주민등록번호의 뒷 자리 7자리 중 두번째와 세번째는 지역코드를 의미한다. \n",
    "# 주민 등록 번호를 입력 받은 후 출생지가 서울인지 아닌지 판단하는 코드를 작성하라\n",
    "#지역코드\t출생지\n",
    "# 00 ~ 08\t서울\n",
    "# 09 ~ 12\t부산\n",
    "input_code = input('주민등록번호 입력: ')\n",
    "city = input_code.split('-')[1][1:3]\n",
    "if city in ['00', '01', '02', '03', '04', '05', '06', '07', '08']:\n",
    "    print('서울')\n",
    "elif city in ['09', '10', '11', '12']:\n",
    "    print('부산')\n",
    "else:\n",
    "    print('X')\n",
    "    \n",
    "    \n",
    "ssn = input('Enter Number : ')\n",
    "\n",
    "if int(ssn.split('-')[1][1:3]) <= 8  :\n",
    "    print('서울')\n",
    "else :\n",
    "    print('서울이 아닙니다.')\n"
   ]
  },
  {
   "cell_type": "code",
   "execution_count": 56,
   "id": "5f836fab",
   "metadata": {},
   "outputs": [
    {
     "name": "stdout",
     "output_type": "stream",
     "text": [
      "년도 입력: 2020\n",
      "달 입력: 2\n",
      "2020년 2월 마지막일은 29일 입니다.\n"
     ]
    }
   ],
   "source": [
    "# input()함수를 이용해서 연도와 월을 입력받아\n",
    "# 해당년도가 윤년일 경우 2월달의 마지막일은 29 , 평년일경우 2월달의 마지막일은 28\n",
    "# 출력의 형식은 : xxxx년 x월 마지막일은 xx일 입니다\n",
    "# if 구문으로 작성 또는 if ~ elif\n",
    "year = int(input('년도 입력: '))\n",
    "month = int(input('달 입력: '))\n",
    "\n",
    "year_months = [31, 28, 31, 30, 31, 30, 31, 31, 30, 31, 30, 31]\n",
    "leap_year_months = [31, 29, 31, 30, 31, 30, 31, 31, 30, 31, 30, 31]\n",
    "\n",
    "if (year%4 == 0) and (year%100 !=0) or (year%400 ==0) :\n",
    "    print('{}년 {}월 마지막일은 {}일 입니다.'.format(year, month, leap_year_months[month-1]))\n",
    "else:\n",
    "    print('{}년 {}월 마지막일은 {}일 입니다.'.format(year, month, year_months[month-1]))"
   ]
  },
  {
   "cell_type": "code",
   "execution_count": null,
   "id": "83d37e0a",
   "metadata": {},
   "outputs": [],
   "source": []
  },
  {
   "cell_type": "code",
   "execution_count": null,
   "id": "23fde5ac",
   "metadata": {},
   "outputs": [],
   "source": []
  }
 ],
 "metadata": {
  "kernelspec": {
   "display_name": "Python 3 (ipykernel)",
   "language": "python",
   "name": "python3"
  },
  "language_info": {
   "codemirror_mode": {
    "name": "ipython",
    "version": 3
   },
   "file_extension": ".py",
   "mimetype": "text/x-python",
   "name": "python",
   "nbconvert_exporter": "python",
   "pygments_lexer": "ipython3",
   "version": "3.9.12"
  }
 },
 "nbformat": 4,
 "nbformat_minor": 5
}
