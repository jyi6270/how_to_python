{
 "cells": [
  {
   "cell_type": "markdown",
   "id": "abc7ba40",
   "metadata": {},
   "source": [
    "list"
   ]
  },
  {
   "cell_type": "code",
   "execution_count": 5,
   "id": "08bf88da",
   "metadata": {},
   "outputs": [
    {
     "name": "stdout",
     "output_type": "stream",
     "text": [
      "type -  <class 'list'> casting -  True\n",
      "max -  7\n",
      "min -  1\n",
      "sum -  28\n",
      "mean -  4.0\n"
     ]
    }
   ],
   "source": [
    "# [], list()\n",
    "# 형변환 함수\n",
    "num_list = [1,2,3,4,5,6,7]\n",
    "print('type - ', type(num_list), 'casting - ', bool(num_list))\n",
    "\n",
    "print('max - ', max(num_list))\n",
    "print('min - ', min(num_list))\n",
    "print('sum - ', sum(num_list))\n",
    "print('mean - ', sum(num_list) / len(num_list))"
   ]
  },
  {
   "cell_type": "code",
   "execution_count": 9,
   "id": "6de93f66",
   "metadata": {},
   "outputs": [
    {
     "name": "stdout",
     "output_type": "stream",
     "text": [
      "instance address -  2085071513152 2085071681728\n",
      "\n",
      "is 연산자 - 주소값을 비교 -  False\n",
      "\n",
      "is 연산자 - 주소값을 비교 -  True\n",
      "\n",
      "tmp_list03.append -  [1, 2, 3, 'jslim']\n"
     ]
    }
   ],
   "source": [
    "tmp_list01 = [1,2,3]\n",
    "tmp_list02 = [1,2,3]\n",
    "print('instance address - ', id(tmp_list01), id(tmp_list02))\n",
    "print()\n",
    "\n",
    "print('is 연산자 - 주소값을 비교 - ', tmp_list01 is tmp_list02)\n",
    "print()\n",
    "\n",
    "# 하나의 변수를 참조하기 때문에 같은 주소\n",
    "tmp_list03 = tmp_list01\n",
    "print('is 연산자 - 주소값을 비교 - ', tmp_list01 is tmp_list03)\n",
    "print()\n",
    "\n",
    "# tmp3에 변수를 추가해도 tmp1에도 추가됨\n",
    "tmp_list03.append('jslim')\n",
    "print('tmp_list03.append - ', tmp_list01 )"
   ]
  },
  {
   "cell_type": "code",
   "execution_count": 11,
   "id": "2655db29",
   "metadata": {},
   "outputs": [
    {
     "name": "stdout",
     "output_type": "stream",
     "text": [
      "instance address -  2085071681728 2085043446784\n",
      "\n",
      "tmp_list04 append -  [1, 2, 3]\n"
     ]
    }
   ],
   "source": [
    "# copy를 사용하여 값만 복사하면 주소값이 다름\n",
    "from copy import copy\n",
    "\n",
    "tmp_list04 = copy(tmp_list02)\n",
    "\n",
    "print('instance address - ', id(tmp_list02), id(tmp_list04))\n",
    "print()\n",
    "\n",
    "tmp_list04.append('jslim')\n",
    "print('tmp_list04 append - ', tmp_list02)\n"
   ]
  },
  {
   "cell_type": "code",
   "execution_count": 14,
   "id": "01102b2f",
   "metadata": {},
   "outputs": [
    {
     "name": "stdout",
     "output_type": "stream",
     "text": [
      "type -  <class 'range'>\n",
      "data -  range(0, 10)\n",
      "range -  False\n",
      "0\t1\t2\t3\t4\t5\t6\t7\t8\t9\t\n",
      "\n",
      "indexing -  0 range(0, 5)\n"
     ]
    }
   ],
   "source": [
    "# inner list: [ [], [] ]\n",
    "# range() : 숫자를 sequence\n",
    "\n",
    "tmp_range = range(10)\n",
    "print('type - ', type(tmp_range))\n",
    "print('data - ', tmp_range)\n",
    "print('range - ', 10 in tmp_range)\n",
    "\n",
    "for value in tmp_range :\n",
    "    print(value, end = '\\t')\n",
    "print()\n",
    "\n",
    "print()\n",
    "print('indexing - ', tmp_range[0], tmp_range[0:5])"
   ]
  },
  {
   "cell_type": "code",
   "execution_count": 27,
   "id": "dda209d1",
   "metadata": {},
   "outputs": [
    {
     "name": "stdout",
     "output_type": "stream",
     "text": [
      "tmp_list -  [2, 3, 2, 3, 1]\n",
      "\n",
      "sort - \n",
      "[3, 3, 2, 2, 1]\n"
     ]
    }
   ],
   "source": [
    "# range(start, end, step)\n",
    "# range(end)\n",
    "# range(start, end)\n",
    "\n",
    "import random\n",
    "\n",
    "tmp_list = []\n",
    "for idx in range(5) :\n",
    "    tmp_list.append(random.randint(1,5))\n",
    "    \n",
    "print('tmp_list - ' , tmp_list)\n",
    "print()\n",
    "\n",
    "# 정렬\n",
    "print('sort - ')\n",
    "tmp_list.sort(reverse = True)\n",
    "print(tmp_list)"
   ]
  },
  {
   "cell_type": "code",
   "execution_count": 1,
   "id": "edf8df8e",
   "metadata": {},
   "outputs": [
    {
     "ename": "NameError",
     "evalue": "name 'tmp_list' is not defined",
     "output_type": "error",
     "traceback": [
      "\u001b[1;31m---------------------------------------------------------------------------\u001b[0m",
      "\u001b[1;31mNameError\u001b[0m                                 Traceback (most recent call last)",
      "Input \u001b[1;32mIn [1]\u001b[0m, in \u001b[0;36m<cell line: 1>\u001b[1;34m()\u001b[0m\n\u001b[1;32m----> 1\u001b[0m \u001b[38;5;28mprint\u001b[39m(\u001b[38;5;124m'\u001b[39m\u001b[38;5;124mlist 요소를 찾고자 할 때 - in\u001b[39m\u001b[38;5;124m'\u001b[39m, \u001b[38;5;241m5\u001b[39m \u001b[38;5;129;01min\u001b[39;00m \u001b[43mtmp_list\u001b[49m)\n\u001b[0;32m      2\u001b[0m \u001b[38;5;28;01mif\u001b[39;00m \u001b[38;5;241m5\u001b[39m \u001b[38;5;129;01min\u001b[39;00m tmp_list :\n\u001b[0;32m      3\u001b[0m     \u001b[38;5;28mprint\u001b[39m(\u001b[38;5;124m'\u001b[39m\u001b[38;5;124mfind~~~\u001b[39m\u001b[38;5;124m'\u001b[39m)\n",
      "\u001b[1;31mNameError\u001b[0m: name 'tmp_list' is not defined"
     ]
    }
   ],
   "source": [
    "print('list 요소를 찾고자 할 때 - in', 5 in tmp_list)\n",
    "if 5 in tmp_list :\n",
    "    print('find~~~')\n",
    "else:\n",
    "    print('can not find')"
   ]
  },
  {
   "cell_type": "markdown",
   "id": "324c21ca",
   "metadata": {},
   "source": [
    "#### list Comprehension"
   ]
  },
  {
   "cell_type": "code",
   "execution_count": 28,
   "id": "07a103bb",
   "metadata": {},
   "outputs": [
    {
     "name": "stdout",
     "output_type": "stream",
     "text": [
      "2\t4\t1\t5\t3\t\n",
      "2\t4\t1\t5\t3\t\n",
      "[4, 16, 1, 25, 9]\t"
     ]
    }
   ],
   "source": [
    "tmp_list = [2, 4, 1, 5, 3]\n",
    "\n",
    "for value in tmp_list :\n",
    "    print(value, end = '\\t')\n",
    "    \n",
    "print()\n",
    "\n",
    "for idx in range(len(tmp_list)):\n",
    "    print(tmp_list[idx], end = '\\t')\n",
    "    \n",
    "print()\n",
    "\n",
    "tmp_list_square = []\n",
    "for idx in range(len(tmp_list)) :\n",
    "    tmp_list_square.append(tmp_list[idx] ** 2)\n",
    "print(tmp_list_square, end = '\\t')\n"
   ]
  },
  {
   "cell_type": "code",
   "execution_count": 30,
   "id": "4f556f57",
   "metadata": {},
   "outputs": [
    {
     "name": "stdout",
     "output_type": "stream",
     "text": [
      "[4, 16, 1, 25, 9]\n",
      "\n",
      "[9]\n",
      "\n",
      "for + if -> result,  [9]\n"
     ]
    }
   ],
   "source": [
    "'''\n",
    "변수 = [실행문 for 변수 in 열거형객체]\n",
    "변수 = [실행문 for 변수 in 열거행객체 if 조건식]\n",
    "'''\n",
    "\n",
    "tmp_list_square = [ value ** 2 for value in tmp_list ]\n",
    "print(tmp_list_square)\n",
    "print()\n",
    "\n",
    "tmp_list_square = [ value ** 2 for value in tmp_list if value%3 == 0]\n",
    "print(tmp_list_square)\n",
    "print()\n",
    "\n",
    "result = []\n",
    "for value in tmp_list :\n",
    "    calc = value**2\n",
    "    if calc%3 == 0 :\n",
    "      result.append(calc)\n",
    "print('for + if -> result, ', result)\n",
    "\n"
   ]
  },
  {
   "cell_type": "code",
   "execution_count": 43,
   "id": "8ef44a9e",
   "metadata": {},
   "outputs": [
    {
     "name": "stdout",
     "output_type": "stream",
     "text": [
      "result -  [3, 6, 9, 12, 15, 18, 21, 24, 27, 30, 33, 36, 39, 42, 45, 48, 51, 54, 57, 60, 63, 66, 69, 72, 75, 78, 81, 84, 87, 90, 93, 96, 99]\n",
      "\n",
      "result -  [3, 6, 9, 12, 15, 18, 21, 24, 27, 30, 33, 36, 39, 42, 45, 48, 51, 54, 57, 60, 63, 66, 69, 72, 75, 78, 81, 84, 87, 90, 93, 96, 99]\n",
      "1.for + if  -> result  [3, 6, 9, 12, 15, 18, 21, 24, 27, 30, 33, 36, 39, 42, 45, 48, 51, 54, 57, 60, 63, 66, 69, 72, 75, 78, 81, 84, 87, 90, 93, 96, 99]\n",
      "\n",
      "2.  [3, 6, 9, 12, 15, 18, 21, 24, 27, 30, 33, 36, 39, 42, 45, 48, 51, 54, 57, 60, 63, 66, 69, 72, 75, 78, 81, 84, 87, 90, 93, 96, 99]\n"
     ]
    }
   ],
   "source": [
    "# range() 함수를 이용해서 1~100 사이의 3의 배수만 출력\n",
    "# for, list Comprehension\n",
    "result = []\n",
    "for value in range(1,101) :\n",
    "    if value%3 == 0 :\n",
    "     result.append(value)\n",
    "print('result - ', result)\n",
    "print()\n",
    "\n",
    "tmp_result = [ value for value in range(1,101) if value%3 == 0]\n",
    "print('result - ', tmp_result)\n",
    "print()\n",
    "\n",
    "\n",
    "# 1.\n",
    "result = []\n",
    "for value in range(1, 101):\n",
    "    if value % 3  == 0 :\n",
    "        result. append(value)\n",
    "print('1.' 'for + if  -> result ', result)\n",
    "print()\n",
    "\n",
    "# 2.\n",
    "tmp_result= [ value for value in range(1, 101) if value % 3 == 0]\n",
    "print('2. ', tmp_result)\n"
   ]
  },
  {
   "cell_type": "markdown",
   "id": "77447bad",
   "metadata": {},
   "source": [
    "#### tuple type\n",
    "- 선언: (), tuple()\n",
    "- 순서 O(indexing, slicing), 중복 O, (수정,삭제) X Immutable\n",
    "- 읽기 전용"
   ]
  },
  {
   "cell_type": "code",
   "execution_count": 46,
   "id": "b2522a04",
   "metadata": {},
   "outputs": [
    {
     "name": "stdout",
     "output_type": "stream",
     "text": [
      "type -  <class 'tuple'> True\n",
      "data -  (1, 2, 3, 4, 5, 4)\n",
      "indexing -  5\n",
      "slicing -  (1, 2)\n"
     ]
    }
   ],
   "source": [
    "# tmp_tuple = (3, )\n",
    "# 괄호 없이 사용 가능\n",
    "tmp_tuple = 1,2,3,4,5,4\n",
    "\n",
    "print('type - ', type(tmp_tuple), bool(tmp_tuple))\n",
    "print('data - ', tmp_tuple)\n",
    "print('indexing - ', tmp_tuple[4])\n",
    "print('slicing - ', tmp_tuple[0:2])"
   ]
  },
  {
   "cell_type": "code",
   "execution_count": 48,
   "id": "f652bdf7",
   "metadata": {},
   "outputs": [
    {
     "name": "stdout",
     "output_type": "stream",
     "text": [
      "type -  <class 'list'>\n",
      "data -  [1, 2, 3, 4, 5, 4]\n",
      "data -  [1, 2, 4, 5, 4]\n",
      "data -  [1, 2, 4, 5, 4, 6]\n",
      "type -  <class 'tuple'>\n",
      "data -  (1, 2, 4, 5, 4, 6)\n"
     ]
    }
   ],
   "source": [
    "# 수정 x\n",
    "# tmp_tuple[4] = 6  #error\n",
    "\n",
    "# 튜플은 수정, 삭제가 안 된다.\n",
    "# 삭제하고 싶은 데이터가 있다면? 형변환\n",
    "\n",
    "tmp_list = list(tmp_tuple)\n",
    "print('type - ', type(tmp_list))\n",
    "print('data - ', tmp_list)\n",
    "tmp_list.remove(3)\n",
    "print('data - ', tmp_list)\n",
    "tmp_list.append(6)\n",
    "print('data - ', tmp_list)\n",
    "\n",
    "# list -> tuple\n",
    "tmp_tuple = tuple(tmp_list)\n",
    "print('type - ', type(tmp_tuple))\n",
    "print('data - ', tmp_tuple)"
   ]
  },
  {
   "cell_type": "markdown",
   "id": "77a27ea2",
   "metadata": {},
   "source": [
    "#### tuple Packing & Unpacking"
   ]
  },
  {
   "cell_type": "code",
   "execution_count": 49,
   "id": "d26dfa27",
   "metadata": {},
   "outputs": [
    {
     "data": {
      "text/plain": [
       "('김기쁨', '최진형', '정상환', '장수빈', '한은석')"
      ]
     },
     "execution_count": 49,
     "metadata": {},
     "output_type": "execute_result"
    }
   ],
   "source": [
    "packing = ('김기쁨', '최진형', '정상환', '장수빈', '한은석')\n",
    "packing"
   ]
  },
  {
   "cell_type": "code",
   "execution_count": 52,
   "id": "82e36eaf",
   "metadata": {},
   "outputs": [
    {
     "name": "stdout",
     "output_type": "stream",
     "text": [
      "김기쁨 최진형 정상환 장수빈 한은석\n",
      "김기쁨 ['최진형', '정상환', '장수빈'] 한은석\n"
     ]
    }
   ],
   "source": [
    "# 변수의 개수가 맞아야함\n",
    "a, b, c, d, e = packing\n",
    "print(a, b, c, d, e)\n",
    "\n",
    "# 변수 개수가 맞지 않는 경우\n",
    "a, *b, c = packing\n",
    "print(a, b, c)"
   ]
  },
  {
   "cell_type": "code",
   "execution_count": 53,
   "id": "f30a93f3",
   "metadata": {},
   "outputs": [],
   "source": [
    "def userFunction() :\n",
    "    num_list = [1,2,3,4,5,6,7]\n",
    "    \n",
    "    data_max = max(num_list)\n",
    "    data_min = min(num_list)\n",
    "    data_sum = sum(num_list)\n",
    "    data_avg = sum(num_list) / len(num_list)\n",
    "    \n",
    "    return (data_max, data_min, data_sum, data_avg)"
   ]
  },
  {
   "cell_type": "code",
   "execution_count": 54,
   "id": "ed7eb5c4",
   "metadata": {},
   "outputs": [
    {
     "name": "stdout",
     "output_type": "stream",
     "text": [
      "7 1 28 4.0\n"
     ]
    }
   ],
   "source": [
    "data_max, data_min, data_sum, data_avg = userFunction()\n",
    "print(data_max, data_min, data_sum, data_avg)"
   ]
  },
  {
   "cell_type": "markdown",
   "id": "2d9ade87",
   "metadata": {},
   "source": [
    "#### dict type\n",
    "- {}, dict()\n",
    "- 순서 X, 키 중복 X, (수정, 삭제) O\n",
    "- 주의사항: 키값으로 list, set X(불변의 타입이 정의되어야 한다)"
   ]
  },
  {
   "cell_type": "code",
   "execution_count": 57,
   "id": "ef973dcf",
   "metadata": {},
   "outputs": [
    {
     "name": "stdout",
     "output_type": "stream",
     "text": [
      "type -  <class 'dict'> True\n",
      "data -  {'name': 'jslim', 'address': 'seoul'}\n",
      "키 유무를 판단하고 싶다면? True\n",
      "키를 통한 데이터 접근 -  jslim\n",
      "키를 통한 데이터 변경 - \n",
      "data -  {'name': '섭섭해', 'address': 'seoul'}\n",
      "data -  {'name': '섭섭해', 'address': 'seoul', 'gender': 'N'}\n"
     ]
    }
   ],
   "source": [
    "tmp_dict = {\n",
    "    'name' : 'jslim' ,\n",
    "    'address' : 'seoul'\n",
    "}\n",
    "print('type - ', type(tmp_dict), bool(tmp_dict))\n",
    "print('data - ', tmp_dict)\n",
    "print('키 유무를 판단하고 싶다면?', 'name' in tmp_dict)\n",
    "print('키를 통한 데이터 접근 - ', tmp_dict['name'])\n",
    "print('키를 통한 데이터 변경 - ')\n",
    "tmp_dict['name'] = '섭섭해'\n",
    "print('data - ', tmp_dict)\n",
    "\n",
    "tmp_dict['gender'] = 'N'\n",
    "print('data - ', tmp_dict)"
   ]
  },
  {
   "cell_type": "code",
   "execution_count": 62,
   "id": "e44c321e",
   "metadata": {},
   "outputs": [
    {
     "name": "stdout",
     "output_type": "stream",
     "text": [
      "{'melon': [300, 20], 'bibibig': [400, 20], 'bravo': [150, 10]}\n",
      "키를 통한 데이터 추출 - \n",
      "type -  <class 'list'> [300, 20]\n",
      "메로나 가격을 10% 인상한다면? - \n",
      "type -  <class 'list'> [330, 20]\n"
     ]
    }
   ],
   "source": [
    "tmp_dict = {\n",
    "    'melon' : [300, 20],\n",
    "    'bibibig' : [400, 20],\n",
    "    'bravo' : [150, 10]\n",
    "}\n",
    "print(tmp_dict)\n",
    "print('키를 통한 데이터 추출 - ')\n",
    "melon_list = tmp_dict['melon']\n",
    "print('type - ', type(melon_list), melon_list)\n",
    "print('메로나 가격을 10% 인상한다면? - ')\n",
    "melon_list[0] = int(melon_list[0]*1.1)\n",
    "print('type - ', type(melon_list), melon_list)"
   ]
  },
  {
   "cell_type": "code",
   "execution_count": 69,
   "id": "4e1e0a9f",
   "metadata": {},
   "outputs": [
    {
     "name": "stdout",
     "output_type": "stream",
     "text": [
      "키를 통한 데이터 추출 - \n",
      "type -  <class 'dict'> {'price': 300, 'qty': 20}\n",
      "\n",
      "수량변경 20 -> 50 {'price': 300, 'qty': 50}\n",
      "\n",
      "bravo 추출\n",
      "type -  <class 'dict'> {'price': 150, 'qty': 10}\n"
     ]
    }
   ],
   "source": [
    "tmp_dict = {\n",
    "    'melon' : {'price': 300, 'qty' : 20},\n",
    "    'bibibig' : {'price': 500, 'qty' : 30},\n",
    "    'bravo' : {'price': 150, 'qty' : 10}\n",
    "}\n",
    "\n",
    "print('키를 통한 데이터 추출 - ')\n",
    "melon_dict = tmp_dict['melon']\n",
    "print('type - ', type(melon_dict), melon_dict)\n",
    "print()\n",
    "\n",
    "melon_dict['qty'] = 50\n",
    "print('수량변경 20 -> 50', melon_dict)\n",
    "print()\n",
    "\n",
    "print('bravo 추출')\n",
    "print('가격인상 한다면?')\n",
    "\n",
    "bravo_list = tmp_dict['bravo']\n",
    "print('type - ', type(bravo_list), bravo_list, bravo_list[0])\n"
   ]
  },
  {
   "cell_type": "code",
   "execution_count": 75,
   "id": "e0defc83",
   "metadata": {},
   "outputs": [
    {
     "name": "stdout",
     "output_type": "stream",
     "text": [
      "\n",
      "bravo 추출\n",
      "가격인상 한다면?\n",
      "type -  <class 'list'> [('price', 150), ('qty', 10)] ('price', 150)\n",
      "type -  <class 'list'> [('price', 1000), ('qty', 10)] ('price', 1000)\n",
      "{'melon': {'price': 300, 'qty': 20}, 'bibibig': {'price': 500, 'qty': 30}, 'bravo': [('price', 1000), ('qty', 10)]}\n"
     ]
    }
   ],
   "source": [
    "tmp_dict = {\n",
    "    'melon' : {'price': 300, 'qty' : 20},\n",
    "    'bibibig' : {'price': 500, 'qty' : 30},\n",
    "    'bravo' : [('price', 150), ('qty', 10)]\n",
    "}\n",
    "print()\n",
    "\n",
    "print('bravo 추출')\n",
    "print('가격인상 한다면?')\n",
    "\n",
    "bravo_list = tmp_dict['bravo']\n",
    "print('type - ', type(bravo_list), bravo_list, bravo_list[0])\n",
    "\n",
    "bravo_tuple = bravo_list[0]\n",
    "bravo_price_list = list(bravo_tuple)\n",
    "bravo_price_list[1] = 1000\n",
    "bravo_list[0] = tuple(bravo_price_list)\n",
    "print('type - ', type(bravo_list), bravo_list, bravo_list[0])\n",
    "\n",
    "print(tmp_dict)"
   ]
  },
  {
   "cell_type": "code",
   "execution_count": 2,
   "id": "5c2686c4",
   "metadata": {},
   "outputs": [
    {
     "name": "stdout",
     "output_type": "stream",
     "text": [
      "type -  <class 'dict'> {'city': 'kwangju', 'age': 30}\n",
      "key 이용 데이터 추출 -  None\n",
      "key 이용 데이터 추출 -  kwangju\n",
      "update() 요소 추가가능 -  None\n",
      "type -  <class 'dict'> {'city': 'kwangju', 'age': 30, 'job': 'instructor'}\n"
     ]
    }
   ],
   "source": [
    "# dict()\n",
    "tmp_dict = dict(\n",
    "    city = 'kwangju',\n",
    "    age = 30\n",
    ")\n",
    "print('type - ', type(tmp_dict), tmp_dict)\n",
    "\n",
    "# error\n",
    "#print('key 이용 데이터 추출 - ',  tmp_dict['address'])\n",
    "print('key 이용 데이터 추출 - ',  tmp_dict.get(0))   #-- key 값으로 가져와야 함\n",
    "print('key 이용 데이터 추출 - ', tmp_dict.get('city'))\n",
    "print('update() 요소 추가가능 - ', tmp_dict.update({'job' : 'instructor'}))\n",
    "print('type - ', type(tmp_dict), tmp_dict)"
   ]
  },
  {
   "cell_type": "markdown",
   "id": "c1886ce0",
   "metadata": {},
   "source": [
    "#### zip *중요"
   ]
  },
  {
   "cell_type": "code",
   "execution_count": 89,
   "id": "ea23211c",
   "metadata": {},
   "outputs": [
    {
     "name": "stdout",
     "output_type": "stream",
     "text": [
      "type -  <class 'dict'> {'user01': '임정섭', 'user02': '섭섭해', 'user03': '임섭순', 'user04': '임재원', 'user05': '임재원'}\n"
     ]
    }
   ],
   "source": [
    "keys = ('user01', 'user02', 'user03', 'user04', 'user05')\n",
    "data = ('임정섭', '섭섭해', '임섭순', '임재원', '임재원')\n",
    "\n",
    "zip_dict = dict(zip(keys, data))\n",
    "print('type - ', type(zip_dict), zip_dict)\n"
   ]
  },
  {
   "cell_type": "code",
   "execution_count": 90,
   "id": "a4d59301",
   "metadata": {},
   "outputs": [
    {
     "name": "stdout",
     "output_type": "stream",
     "text": [
      "type -  <class 'dict'> {'user01': '임정섭', 'user02': '섭섭해', 'user03': '임섭순', 'user04': '임재원', 'user05': '임재원'}\n"
     ]
    }
   ],
   "source": [
    "# .zip을 사용하지 않고 zip하기\n",
    "zip_dict = {}\n",
    "\n",
    "for idx in range(len(keys)) :\n",
    "    zip_dict.update({keys[idx] : data[idx]})\n",
    "    \n",
    "print('type - ', type(zip_dict), zip_dict)"
   ]
  },
  {
   "cell_type": "code",
   "execution_count": 91,
   "id": "1d8e433e",
   "metadata": {},
   "outputs": [
    {
     "name": "stdout",
     "output_type": "stream",
     "text": [
      "user01\tuser02\tuser03\tuser04\tuser05\t\n",
      "임정섭\t섭섭해\t임섭순\t임재원\t임재원\t\n",
      "user01 임정섭\tuser02 섭섭해\tuser03 임섭순\tuser04 임재원\tuser05 임재원\t"
     ]
    }
   ],
   "source": [
    "# dict는 순서가 없어서 자체적으로 루프를 돌릴 수 없기 때문에 다른 방식으로\n",
    "# keys(), values(), items()\n",
    "for key in zip_dict.keys():\n",
    "    print(key, end = '\\t')\n",
    "print()\n",
    "\n",
    "for value in zip_dict.values() :\n",
    "    print(value, end = '\\t')\n",
    "print()\n",
    "\n",
    "for key, value in zip_dict.items() :\n",
    "    print(key, value, end= '\\t')"
   ]
  },
  {
   "cell_type": "code",
   "execution_count": 92,
   "id": "b30263d6",
   "metadata": {},
   "outputs": [
    {
     "name": "stdout",
     "output_type": "stream",
     "text": [
      "type -  <class 'dict'> {}\n"
     ]
    }
   ],
   "source": [
    "# 없애기\n",
    "zip_dict.clear()\n",
    "print('type - ', type(zip_dict), zip_dict)"
   ]
  },
  {
   "cell_type": "markdown",
   "id": "1ba08c99",
   "metadata": {},
   "source": [
    "#### set type\n",
    "- 순서 X, 중복 X\n",
    "- 선언: {}, set()\n",
    "- 인덱싱, 슬라이싱 X"
   ]
  },
  {
   "cell_type": "code",
   "execution_count": 93,
   "id": "867309f0",
   "metadata": {},
   "outputs": [
    {
     "name": "stdout",
     "output_type": "stream",
     "text": [
      "type -  <class 'set'> {1} True\n"
     ]
    }
   ],
   "source": [
    "tmp_set = {1}\n",
    "print('type - ', type(tmp_set), tmp_set, bool(tmp_set))"
   ]
  },
  {
   "cell_type": "code",
   "execution_count": 94,
   "id": "826d285b",
   "metadata": {},
   "outputs": [
    {
     "name": "stdout",
     "output_type": "stream",
     "text": [
      "type -  <class 'set'> {1, 2, 3} True\n"
     ]
    }
   ],
   "source": [
    "# 리스트 형식으로 데이터가 들어가야함\n",
    "tmp_set = set([1,2,3])    \n",
    "print('type - ', type(tmp_set), tmp_set, bool(tmp_set))\n",
    "# print('indexing X - ', tmp_set[0])  --error"
   ]
  },
  {
   "cell_type": "code",
   "execution_count": 96,
   "id": "363fc4a0",
   "metadata": {},
   "outputs": [
    {
     "name": "stdout",
     "output_type": "stream",
     "text": [
      "교집합 -  {4, 5, 6} {4, 5, 6}\n",
      "합집합 -  {1, 2, 3, 4, 5, 6, 7, 8, 9} {1, 2, 3, 4, 5, 6, 7, 8, 9}\n",
      "차집합 -  {1, 2, 3} {1, 2, 3}\n"
     ]
    }
   ],
   "source": [
    "# 교집합(intersection) == &, 합집합(union) == |, 차집합(difference) == -\n",
    "\n",
    "tmp_set01 = set([1,2,3,4,5,6])\n",
    "tmp_set02 = set([4,5,6,7,8,9])\n",
    "\n",
    "print('교집합 - ', tmp_set01.intersection(tmp_set02), tmp_set01 & tmp_set02)\n",
    "print('합집합 - ', tmp_set01.union(tmp_set02), tmp_set01 | tmp_set02)\n",
    "print('차집합 - ', tmp_set01.difference(tmp_set02), tmp_set01 - tmp_set02)"
   ]
  },
  {
   "cell_type": "code",
   "execution_count": 99,
   "id": "c759bd49",
   "metadata": {},
   "outputs": [
    {
     "name": "stdout",
     "output_type": "stream",
     "text": [
      "{'남자', '여자'}\n",
      "type -  <class 'list'> ['남자', '여자'] True\n"
     ]
    }
   ],
   "source": [
    "# 중복제거하고 출력 --\n",
    "gender = ['남자', '여자', '여자', '남자', '남자', '남자', '여자', '여자', '남자', '남자']\n",
    "gender_set = set(gender)\n",
    "print(gender_set)\n",
    "gender_list = list(gender_set)\n",
    "print('type - ', type(gender_list), gender_list, bool(gender_list))"
   ]
  },
  {
   "cell_type": "code",
   "execution_count": 114,
   "id": "d374d9ee",
   "metadata": {},
   "outputs": [
    {
     "name": "stdout",
     "output_type": "stream",
     "text": [
      "단어 빈도 수를 구하고 싶다 - \n",
      "type -  <class 'list'> ['love', 'jslim', 'dog', 'lucky', 'cat', 'cat', 'cat', 'jslim', 'lucky', 'lucky', 'lucky'] True\n",
      "\n",
      "case01  \n",
      "\n",
      "{'love': 1, 'jslim': 2, 'dog': 1, 'lucky': 4, 'cat': 3}\n",
      "\n",
      "\n",
      "case01-1  \n",
      "{'love': 1, 'jslim': 2, 'dog': 1, 'lucky': 4, 'cat': 3}\n"
     ]
    }
   ],
   "source": [
    "# dir(gender_set) _iter_ 함수가 있는 경우 반복문 사용 가능\n",
    "# 출력 예시 {lobe : 1, jslim: 2, luckyL 4 ....}\n",
    "print('단어 빈도 수를 구하고 싶다 - ')\n",
    "word_list = ['love', 'jslim', 'dog', 'lucky', 'cat', 'cat', 'cat', 'jslim', 'lucky', 'lucky', 'lucky' ]\n",
    "print('type - ', type(word_list), word_list, bool(word_list))\n",
    "\n",
    "\n",
    "print()\n",
    "print('case01  ')\n",
    "print()\n",
    "word_dict = {}\n",
    "for value in word_list :\n",
    "    #print(value)\n",
    "    if value in word_dict :\n",
    "        word_dict[value] = word_dict[value] + 1\n",
    "        #print('true')\n",
    "    else :\n",
    "        word_dict[value] = 1\n",
    "        #print('false')\n",
    "print(word_dict)\n",
    "print()\n",
    "print()\n",
    "print('case01-1  ')\n",
    "word_dict = {}\n",
    "for value in word_list :\n",
    "    word_dict[value] = word_dict.get(value, 0) + 1\n",
    "print(word_dict)"
   ]
  },
  {
   "cell_type": "code",
   "execution_count": 115,
   "id": "ffd11dfb",
   "metadata": {},
   "outputs": [
    {
     "name": "stdout",
     "output_type": "stream",
     "text": [
      "\n",
      "case02 - \n",
      "\n",
      "{'dog': 1, 'cat': 3, 'jslim': 2, 'lucky': 4, 'love': 1}\n"
     ]
    }
   ],
   "source": [
    "print()\n",
    "print('case02 - ')\n",
    "print()\n",
    "word_dict = {}\n",
    "tmp_list = list(set(word_list))\n",
    "for data in tmp_list : \n",
    "    # print(data)\n",
    "    word_dict.update( {data : word_list.count(data)})\n",
    "print(word_dict)\n"
   ]
  },
  {
   "cell_type": "code",
   "execution_count": null,
   "id": "ffc2eae2",
   "metadata": {},
   "outputs": [],
   "source": []
  },
  {
   "cell_type": "code",
   "execution_count": null,
   "id": "61ca37c3",
   "metadata": {},
   "outputs": [],
   "source": [
    "print()\n",
    "print('case03 - ')\n",
    "print()\n",
    "dict(zip(set(word_list) , [word_list.count(i) for i in set(word_list)] ))\n"
   ]
  },
  {
   "cell_type": "code",
   "execution_count": null,
   "id": "72ae5cfd",
   "metadata": {},
   "outputs": [],
   "source": []
  },
  {
   "cell_type": "code",
   "execution_count": null,
   "id": "bfdc4928",
   "metadata": {},
   "outputs": [],
   "source": []
  },
  {
   "cell_type": "code",
   "execution_count": null,
   "id": "9dfef70a",
   "metadata": {},
   "outputs": [],
   "source": []
  },
  {
   "cell_type": "code",
   "execution_count": null,
   "id": "4c70f87b",
   "metadata": {},
   "outputs": [],
   "source": []
  },
  {
   "cell_type": "code",
   "execution_count": null,
   "id": "267d220b",
   "metadata": {},
   "outputs": [],
   "source": []
  }
 ],
 "metadata": {
  "kernelspec": {
   "display_name": "Python 3 (ipykernel)",
   "language": "python",
   "name": "python3"
  },
  "language_info": {
   "codemirror_mode": {
    "name": "ipython",
    "version": 3
   },
   "file_extension": ".py",
   "mimetype": "text/x-python",
   "name": "python",
   "nbconvert_exporter": "python",
   "pygments_lexer": "ipython3",
   "version": "3.9.12"
  }
 },
 "nbformat": 4,
 "nbformat_minor": 5
}
