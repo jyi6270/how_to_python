{
 "cells": [
  {
   "cell_type": "markdown",
   "id": "6b86d145",
   "metadata": {},
   "source": [
    "#### 파일 입출력\n",
    "- 파이썬이 텍스트파일, JSON 형식 입출력(예외발생)\n",
    "- 분석을 위한 데이터 타입이 필요(DataFrame - Pandas를 통한 파일 입출력(csv, xls))"
   ]
  },
  {
   "cell_type": "code",
   "execution_count": 1,
   "id": "1fae9da9",
   "metadata": {},
   "outputs": [
    {
     "data": {
      "text/plain": [
       "\"\\nopen(filePath, mode = ' read | write | append | binary', encoding = '')\\n\\n\\n# close를 안 해도 되는 with open\\nwith open() as file :\\n    pass\\n\""
      ]
     },
     "execution_count": 1,
     "metadata": {},
     "output_type": "execute_result"
    }
   ],
   "source": [
    "'''\n",
    "open(filePath, mode = ' read | write | append | binary', encoding = '')\n",
    "\n",
    "\n",
    "# close를 안 해도 되는 with open\n",
    "with open() as file :\n",
    "    pass\n",
    "'''"
   ]
  },
  {
   "cell_type": "code",
   "execution_count": 12,
   "id": "7d563f37",
   "metadata": {},
   "outputs": [],
   "source": [
    "def file_sample_function(fileName: str, mode: str) :\n",
    "    print('file path - ', fileName)\n",
    "    print('mode - ', mode)\n",
    "    \n",
    "    try:\n",
    "        if mode == 'r' :\n",
    "            file = open(fileName, mode = mode, encoding = 'UTF-8')\n",
    "            print('type - ', type(file))\n",
    "            print('read - ', file.read())\n",
    "        \n",
    "            file.close()\n",
    "            \n",
    "    except FileNotFoundError as f :\n",
    "        print(str(f))\n"
   ]
  },
  {
   "cell_type": "code",
   "execution_count": 13,
   "id": "74a2683e",
   "metadata": {},
   "outputs": [
    {
     "name": "stdout",
     "output_type": "stream",
     "text": [
      "file path -  ./data/greeting.txt\n",
      "mode -  r\n",
      "type -  <class '_io.TextIOWrapper'>\n",
      "read -  오늘은 아침부터 어려운 내용을 공부했다\n",
      "하나도 모르겠다.\n",
      "ㅠ.ㅠ\n",
      "그래도 열심히 학습에 정진하도록 하겠다.\n",
      "\n"
     ]
    }
   ],
   "source": [
    "file_sample_function('./data/greeting.txt', 'r')"
   ]
  },
  {
   "cell_type": "code",
   "execution_count": 16,
   "id": "63082b3b",
   "metadata": {},
   "outputs": [],
   "source": [
    "# file.close()를 finally로 빼면 file이 정의된 if 구문을 벗어나기 때문에 외부에서 file = None을 정의해야 한다\n",
    "def file_sample_function(fileName: str, mode: str) :\n",
    "    print('file path - ', fileName)\n",
    "    print('mode - ', mode)\n",
    "    \n",
    "    file = None\n",
    "    \n",
    "    try:\n",
    "        if mode == 'r' :\n",
    "            file = open(fileName, mode = mode, encoding = 'UTF-8')\n",
    "            print('type - ', type(file))\n",
    "            print('read - ', file.read())\n",
    "            \n",
    "        elif mode == 'w' :\n",
    "            file = open(fileName, mode = mode, encoding = 'UTF-8')\n",
    "            file.write('Hello ~ , Seop')\n",
    "            \n",
    "        elif mode == 'a' :\n",
    "            file = open(fileName, mode = mode, encoding = 'UTF-8')\n",
    "            file.write('\\nSeop append')\n",
    "            \n",
    "    except FileNotFoundError as f :\n",
    "        print(str(f))\n",
    "    finally :\n",
    "        file.close()"
   ]
  },
  {
   "cell_type": "code",
   "execution_count": 17,
   "id": "0122ecda",
   "metadata": {},
   "outputs": [
    {
     "name": "stdout",
     "output_type": "stream",
     "text": [
      "읽기 모드 - \n",
      "file path -  ./data/greeting.txt\n",
      "mode -  r\n",
      "type -  <class '_io.TextIOWrapper'>\n",
      "read -  오늘은 아침부터 어려운 내용을 공부했다\n",
      "하나도 모르겠다.\n",
      "ㅠ.ㅠ\n",
      "그래도 열심히 학습에 정진하도록 하겠다.\n",
      "\n",
      "쓰기 모드 - \n",
      "file path -  ./data/testing.txt\n",
      "mode -  w\n",
      "추가쓰기 모드 - \n",
      "file path -  ./data/testing.txt\n",
      "mode -  a\n"
     ]
    }
   ],
   "source": [
    "print('읽기 모드 - ')\n",
    "file_sample_function('./data/greeting.txt', 'r')\n",
    "\n",
    "print('쓰기 모드 - ')\n",
    "file_sample_function('./data/testing.txt', 'w')\n",
    "\n",
    "print('추가쓰기 모드 - ')\n",
    "file_sample_function('./data/testing.txt', 'a')"
   ]
  },
  {
   "cell_type": "code",
   "execution_count": 26,
   "id": "10c76bfc",
   "metadata": {},
   "outputs": [],
   "source": [
    "def file_with_open_functon(fileName, mode, encoding):\n",
    "    print('file - ', fileName)\n",
    "    print('mdoe - ', mode)\n",
    "    print('encoding - ', encoding)\n",
    "    \n",
    "    with open(fileName, mode, encoding = encoding) as file :\n",
    "        print(file.read())"
   ]
  },
  {
   "cell_type": "code",
   "execution_count": 27,
   "id": "f6e21419",
   "metadata": {},
   "outputs": [
    {
     "ename": "NameError",
     "evalue": "name 'file_with_open_function' is not defined",
     "output_type": "error",
     "traceback": [
      "\u001b[1;31m---------------------------------------------------------------------------\u001b[0m",
      "\u001b[1;31mNameError\u001b[0m                                 Traceback (most recent call last)",
      "Input \u001b[1;32mIn [27]\u001b[0m, in \u001b[0;36m<cell line: 1>\u001b[1;34m()\u001b[0m\n\u001b[1;32m----> 1\u001b[0m \u001b[43mfile_with_open_function\u001b[49m(\u001b[38;5;124m'\u001b[39m\u001b[38;5;124m./data/testing.txt\u001b[39m\u001b[38;5;124m'\u001b[39m, \u001b[38;5;124m'\u001b[39m\u001b[38;5;124mr\u001b[39m\u001b[38;5;124m'\u001b[39m, \u001b[38;5;124m'\u001b[39m\u001b[38;5;124mUTF-8\u001b[39m\u001b[38;5;124m'\u001b[39m)\n",
      "\u001b[1;31mNameError\u001b[0m: name 'file_with_open_function' is not defined"
     ]
    }
   ],
   "source": [
    "file_with_open_function('./data/testing.txt', 'r', 'UTF-8')"
   ]
  },
  {
   "cell_type": "code",
   "execution_count": null,
   "id": "dcf4f52a",
   "metadata": {},
   "outputs": [],
   "source": [
    "'''\n",
    "with open 구문과 input 함수 그리고 루프구문을 이용하여\n",
    "exit 문자가 들어오기 전까지 입력된 데이터를 파일(./data/multiline.txt)로 저장\n",
    "'''"
   ]
  },
  {
   "cell_type": "code",
   "execution_count": 33,
   "id": "7995c873",
   "metadata": {},
   "outputs": [],
   "source": [
    "def file_with_open_mission_functon(fileName, mode, encoding):\n",
    "    print('file - ', fileName)\n",
    "    print('mdoe - ', mode)\n",
    "    print('encoding - ', encoding)\n",
    "    \n",
    "    flag = True\n",
    "    \n",
    "    with open(fileName, mode, encoding = encoding) as file:\n",
    "        while flag:\n",
    "            input_msg = input('데이터를 입력하세요: ')\n",
    "            if input_msg == 'exit' :\n",
    "                flag = False\n",
    "                break\n",
    "            else:\n",
    "                print('msg - ', input_msg)\n",
    "                file.write(input_msg+'\\n')"
   ]
  },
  {
   "cell_type": "code",
   "execution_count": 34,
   "id": "7086a364",
   "metadata": {},
   "outputs": [
    {
     "name": "stdout",
     "output_type": "stream",
     "text": [
      "file -  ./data/multiline.txt\n",
      "mdoe -  w\n",
      "encoding -  UTF-8\n",
      "데이터를 입력하세요: 안녕\n",
      "msg -  안녕\n",
      "데이터를 입력하세요: 헬로우\n",
      "msg -  헬로우\n",
      "데이터를 입력하세요: 올라\n",
      "msg -  올라\n",
      "데이터를 입력하세요: exit\n"
     ]
    }
   ],
   "source": [
    "file_with_open_mission_functon('./data/multiline.txt', 'w', 'UTF-8')"
   ]
  },
  {
   "cell_type": "code",
   "execution_count": null,
   "id": "82844b80",
   "metadata": {},
   "outputs": [],
   "source": [
    "'''\n",
    "텍스트 데이터를 읽어들일 때 문자열 리턴이 아닌 리스트 형식으로 리턴이 가능하다.\n",
    "readline()\n",
    "'''"
   ]
  },
  {
   "cell_type": "code",
   "execution_count": 35,
   "id": "d107cefe",
   "metadata": {},
   "outputs": [
    {
     "name": "stdout",
     "output_type": "stream",
     "text": [
      "type - <class 'str'>\n",
      "안녕\n",
      "\n",
      "안녕\n",
      "type - <class 'str'>\n",
      "헬로우\n",
      "\n",
      "헬로우\n",
      "type - <class 'str'>\n",
      "올라\n",
      "\n",
      "올라\n",
      "type - <class 'str'>\n",
      "\n",
      "\n"
     ]
    }
   ],
   "source": [
    "with open('./data/multiline.txt', 'r', encoding = 'UTF-8') as file :\n",
    "    line = None\n",
    "    while line != '' :\n",
    "        line = file.readline()\n",
    "        print('type -', type(line))\n",
    "        print(line)\n",
    "        print(line.strip('\\n'))"
   ]
  },
  {
   "cell_type": "code",
   "execution_count": 45,
   "id": "666950d4",
   "metadata": {},
   "outputs": [],
   "source": [
    "'''\n",
    "cnt_words.txt 줄 단위로 읽어서 단어의 길이가 10이하인 단어들만 카운팅 한다면?\n",
    "'''\n",
    "\n",
    "def cnt_function():\n",
    "    cnt = 0\n",
    "    with open('./data/cnt_words.txt', 'r', encoding = 'UTF-8') as file:\n",
    "        for line in file :\n",
    "            word = line.strip('\\n')\n",
    "            if (len(word) <= 10 ):\n",
    "                cnt+=1\n",
    "    print('10자 이하인 단어의 개수는: ', cnt)"
   ]
  },
  {
   "cell_type": "code",
   "execution_count": 46,
   "id": "d797948d",
   "metadata": {},
   "outputs": [
    {
     "name": "stdout",
     "output_type": "stream",
     "text": [
      "10자 이하인 단어의 개수는:  6\n"
     ]
    }
   ],
   "source": [
    "cnt_function()"
   ]
  },
  {
   "cell_type": "code",
   "execution_count": 48,
   "id": "ecb2fae0",
   "metadata": {},
   "outputs": [],
   "source": [
    "# special_words.txt 파일로부터 문자 'c' 포함된 단어를 각 줄에 출력한다면?\n",
    "# 단어를 출력할  때 등장한 순서대로 출력\n",
    "\n",
    "def include_function() :\n",
    "    with open('./data/txt/special_words.txt', 'r', encoding= 'UTF- 8') as file :\n",
    "        words = file.readline().split()\n",
    "        print(words)\n",
    "        print('type - ', type(words))\n",
    "        # (, .) 제거 해보자 - strip()\n",
    "        words = [word.strip(',.') for word in words]\n",
    "        print(words)\n",
    "        print('정답 - ')\n",
    "        for word in words :\n",
    "            if 'c' in word :\n",
    "                print(word)\n",
    "    "
   ]
  },
  {
   "cell_type": "code",
   "execution_count": 50,
   "id": "80e23557",
   "metadata": {},
   "outputs": [
    {
     "name": "stdout",
     "output_type": "stream",
     "text": [
      "['Fortunately,', 'however,', 'for', 'the', 'reputation', 'of', 'Asteroid', 'B-612,', 'a', 'Turkish', 'dictator', 'made', 'a', 'law', 'that', 'his', 'subjects,', 'under', 'pain', 'of', 'death,', 'should', 'change', 'to', 'European', 'costume.', 'So', 'in', '1920', 'the', 'astronomer', 'gave', 'his', 'demonstration', 'all', 'over', 'again,', 'dressed', 'with', 'impressive', 'style', 'and', 'elegance.', 'And', 'this', 'time', 'everybody', 'accepted', 'his', 'report.']\n",
      "type -  <class 'list'>\n",
      "['Fortunately', 'however', 'for', 'the', 'reputation', 'of', 'Asteroid', 'B-612', 'a', 'Turkish', 'dictator', 'made', 'a', 'law', 'that', 'his', 'subjects', 'under', 'pain', 'of', 'death', 'should', 'change', 'to', 'European', 'costume', 'So', 'in', '1920', 'the', 'astronomer', 'gave', 'his', 'demonstration', 'all', 'over', 'again', 'dressed', 'with', 'impressive', 'style', 'and', 'elegance', 'And', 'this', 'time', 'everybody', 'accepted', 'his', 'report']\n",
      "정답 - \n",
      "dictator\n",
      "subjects\n",
      "change\n",
      "costume\n",
      "elegance\n",
      "accepted\n"
     ]
    }
   ],
   "source": [
    "include_function()"
   ]
  },
  {
   "cell_type": "code",
   "execution_count": 51,
   "id": "275e2a5f",
   "metadata": {},
   "outputs": [
    {
     "name": "stdout",
     "output_type": "stream",
     "text": [
      "false\n"
     ]
    }
   ],
   "source": [
    "'''\n",
    "회문(palindrome)\n",
    "madam, nurses run, sos, rotator, level ...\n",
    "만약 단어가 회문인지를 검사하는 함수 만든다면?\n",
    "'''\n",
    "str = 'jslim9413'\n",
    "if str == str[::-1] :\n",
    "    print('true')\n",
    "else:\n",
    "    print('false')"
   ]
  },
  {
   "cell_type": "code",
   "execution_count": 52,
   "id": "e1497902",
   "metadata": {},
   "outputs": [
    {
     "data": {
      "text/plain": [
       "'3149milsj'"
      ]
     },
     "execution_count": 52,
     "metadata": {},
     "output_type": "execute_result"
    }
   ],
   "source": [
    "str[::-1]"
   ]
  },
  {
   "cell_type": "code",
   "execution_count": 53,
   "id": "2c4ebbb3",
   "metadata": {},
   "outputs": [
    {
     "data": {
      "text/plain": [
       "['3', '1', '4', '9', 'm', 'i', 'l', 's', 'j']"
      ]
     },
     "execution_count": 53,
     "metadata": {},
     "output_type": "execute_result"
    }
   ],
   "source": [
    "list(reversed(str))"
   ]
  },
  {
   "cell_type": "code",
   "execution_count": 54,
   "id": "522a0dd7",
   "metadata": {},
   "outputs": [
    {
     "data": {
      "text/plain": [
       "False"
      ]
     },
     "execution_count": 54,
     "metadata": {},
     "output_type": "execute_result"
    }
   ],
   "source": [
    "list(str) == list(reversed(str))"
   ]
  },
  {
   "cell_type": "code",
   "execution_count": null,
   "id": "84d3714f",
   "metadata": {},
   "outputs": [],
   "source": [
    "0  1  2  3  4  5  6  7  8  9  10\n",
    "m  u  l  t  i  c  a  m  p  u  s\n",
    "11 10 9  8  7  6  5  4  3  2  1 (-)"
   ]
  },
  {
   "cell_type": "code",
   "execution_count": 56,
   "id": "bb6e4046",
   "metadata": {},
   "outputs": [],
   "source": [
    "def isPalindrome():\n",
    "    word = input('회문 검사를 위한 단어 입력: ')\n",
    "    middle_idx = len(word) // 2\n",
    "    print('idx - ', middle_idx)\n",
    "    \n",
    "    isFlag = True\n",
    "    for idx in range(middle_idx) :\n",
    "        if word[idx] != word[-1-idx] :\n",
    "            isFlag = False\n",
    "            break\n",
    "            \n",
    "    return isFlag"
   ]
  },
  {
   "cell_type": "code",
   "execution_count": 58,
   "id": "47559ab3",
   "metadata": {},
   "outputs": [
    {
     "name": "stdout",
     "output_type": "stream",
     "text": [
      "회문 검사를 위한 단어 입력: result\n",
      "idx -  3\n",
      "회문이 아니네요\n"
     ]
    }
   ],
   "source": [
    "result = isPalindrome()\n",
    "if result:\n",
    "    print('회문이네요')\n",
    "else:\n",
    "    print('회문이 아니네요')"
   ]
  },
  {
   "cell_type": "code",
   "execution_count": null,
   "id": "fb495465",
   "metadata": {},
   "outputs": [],
   "source": [
    "'''\n",
    "제공되어지는 txt파일에서 회문인 단어만 출력하고 단어의 개수를 카운트 한다면?\n",
    "주의) 단어사이의 줄 바꿈이 두 번 일어나서는 안 됨!\n",
    "palindrome_words.txt\n",
    "'''\n",
    "def palindrome_function() :\n",
    "    "
   ]
  },
  {
   "cell_type": "code",
   "execution_count": 68,
   "id": "7bcf7aeb",
   "metadata": {},
   "outputs": [],
   "source": [
    "def palindrome_function() :\n",
    "    with open('./data/txt/palindrome_words.txt', 'r', encoding= 'UTF- 8') as file :\n",
    "        cnt = 0\n",
    "        for word in file :\n",
    "            word = word.strip('\\n')\n",
    "            if word == word[::-1] :\n",
    "                print(word)\n",
    "                cnt += 1\n",
    "                \n",
    "    print('회문인 단어의 개수는 : ', cnt)"
   ]
  },
  {
   "cell_type": "code",
   "execution_count": 69,
   "id": "bacb03e0",
   "metadata": {},
   "outputs": [
    {
     "name": "stdout",
     "output_type": "stream",
     "text": [
      "did\n",
      "noon\n",
      "refer\n",
      "madam\n",
      "level\n",
      "nursesrun\n",
      "회문인 단어의 개수는 :  6\n"
     ]
    }
   ],
   "source": [
    "palindrome_function()"
   ]
  },
  {
   "cell_type": "code",
   "execution_count": 74,
   "id": "0e78afc5",
   "metadata": {},
   "outputs": [
    {
     "name": "stdout",
     "output_type": "stream",
     "text": [
      "type -  <class 'dict'>\n",
      "dict -> json {\"id\": \"jslim\", \"pwd\": \"jslim\"}\n",
      "dict -> json <class 'str'>\n",
      "json -> dict  {'id': 'jslim', 'pwd': 'jslim'}\n",
      "json -> dict  <class 'dict'> jslim\n"
     ]
    }
   ],
   "source": [
    "'''\n",
    "네트워크상에서 표준으로 사용되는 파일 형식 - JSON\n",
    "{key : value, key : value}\n",
    "encoding : python(dict) -> json : dumps()\n",
    "decoding : json         -> python(dict, list) : loads()\n",
    "'''\n",
    "\n",
    "import json as j\n",
    "\n",
    "tmp_dict = {'id' : 'jslim', 'pwd': 'jslim'}\n",
    "print('type - ', type(tmp_dict))\n",
    "\n",
    "str_dict = j.dumps(tmp_dict)\n",
    "print('dict -> json', str_dict)\n",
    "print('dict -> json', type(str_dict))\n",
    "\n",
    "py_dict = j.loads(str_dict)\n",
    "print('json -> dict ', py_dict)\n",
    "print('json -> dict ', type(py_dict), py_dict['id'])"
   ]
  },
  {
   "cell_type": "code",
   "execution_count": 258,
   "id": "0f04856d",
   "metadata": {},
   "outputs": [],
   "source": [
    "def json_function():\n",
    "    with open('./data/txt/usagov_bitly.txt','r', encoding = 'UTF-8') as file :\n",
    "        for line in file :\n",
    "            lines = file.readlines() # readline : 한줄, readlines : 전체를 리스트로 담아서 가져옴\n",
    "            # print(lines)\n",
    "            print()\n",
    "            lines = [ j.loads(line) for line in lines]\n",
    "            # print(lines)\n",
    "            print('type - ', type(lines))\n",
    "            print('url  - ', lines[0]['r'])"
   ]
  },
  {
   "cell_type": "code",
   "execution_count": 259,
   "id": "0175831d",
   "metadata": {},
   "outputs": [
    {
     "name": "stdout",
     "output_type": "stream",
     "text": [
      "\n",
      "type -  <class 'list'>\n",
      "url  -  http://www.AwareMap.com/\n"
     ]
    }
   ],
   "source": [
    "json_function()"
   ]
  },
  {
   "cell_type": "markdown",
   "id": "16808c35",
   "metadata": {},
   "source": [
    "#### 수행평가\n",
    "- zipcode.txt 이용\n",
    "- input() 동 이름 입력받기 예)개포\n",
    "- 해당하는 동의 주소를 출력하는 함수(search_address())를 정의\n",
    "- 해당동이 존재하지 않을 수 있다.(예외처리)"
   ]
  },
  {
   "cell_type": "code",
   "execution_count": 256,
   "id": "72e7ab8e",
   "metadata": {},
   "outputs": [],
   "source": [
    "def search_address():\n",
    "    with open('./data/txt/zipcode.txt', 'r', encoding = 'UTF-8') as file:\n",
    "        area = input('동 이름을 입력하세요: ')\n",
    "        for line in file:\n",
    "            try:\n",
    "                address = [line.strip('\\n')]\n",
    "                address01 = [address[0].split('\\t')[3]]\n",
    "                address02 = address01[0].split('동')[0]\n",
    "                if area == address02:\n",
    "                    print(line)\n",
    "            except Exception as e :\n",
    "                print('없는 동입니다.')"
   ]
  },
  {
   "cell_type": "code",
   "execution_count": 257,
   "id": "59fc2554",
   "metadata": {},
   "outputs": [
    {
     "name": "stdout",
     "output_type": "stream",
     "text": [
      "동 이름을 입력하세요: 미미\n"
     ]
    }
   ],
   "source": [
    "search_address()"
   ]
  },
  {
   "cell_type": "code",
   "execution_count": null,
   "id": "af55424a",
   "metadata": {},
   "outputs": [],
   "source": []
  }
 ],
 "metadata": {
  "kernelspec": {
   "display_name": "Python 3 (ipykernel)",
   "language": "python",
   "name": "python3"
  },
  "language_info": {
   "codemirror_mode": {
    "name": "ipython",
    "version": 3
   },
   "file_extension": ".py",
   "mimetype": "text/x-python",
   "name": "python",
   "nbconvert_exporter": "python",
   "pygments_lexer": "ipython3",
   "version": "3.9.12"
  }
 },
 "nbformat": 4,
 "nbformat_minor": 5
}
