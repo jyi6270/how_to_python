{
 "cells": [
  {
   "cell_type": "markdown",
   "id": "49fbf072",
   "metadata": {},
   "source": [
    "#### 반복구문\n",
    "- for ~ in\n",
    "- for ~ else\n",
    "- while\n",
    "- break, continue"
   ]
  },
  {
   "cell_type": "code",
   "execution_count": 1,
   "id": "d09a8d23",
   "metadata": {},
   "outputs": [
    {
     "name": "stdout",
     "output_type": "stream",
     "text": [
      "0\t1\t2\t3\t4\t5\t6\t7\t8\t9\t\n",
      "0\t1\t2\t3\t4\t5\t6\t7\t8\t9\t\n",
      "0\t2\t4\t6\t8\t\n"
     ]
    }
   ],
   "source": [
    "#for 변수 in seq collection :\n",
    "#    <loop body>\n",
    "\n",
    "for val in range(10) :\n",
    "    print(val, end = '\\t')\n",
    "print()\n",
    "\n",
    "for val in range(0, 10) :\n",
    "    print(val, end = '\\t')\n",
    "print()\n",
    "\n",
    "for val in range(0, 10, 2) :\n",
    "    print(val, end = '\\t')\n",
    "print()"
   ]
  },
  {
   "cell_type": "code",
   "execution_count": null,
   "id": "72ce69cc",
   "metadata": {},
   "outputs": [],
   "source": [
    "#scores = []\n",
    "for idx in range(10) :\n",
    "    scores.append(int(input('성적을 입력하세요: ')))"
   ]
  },
  {
   "cell_type": "code",
   "execution_count": null,
   "id": "1fe64c5b",
   "metadata": {},
   "outputs": [],
   "source": [
    "scores"
   ]
  },
  {
   "cell_type": "code",
   "execution_count": null,
   "id": "99e4661c",
   "metadata": {},
   "outputs": [],
   "source": [
    "print('scores 총합을 구한다면 - ', sum(scores))\n",
    "scores_sum = 0\n",
    "for data in scores :\n",
    "    scores_sum += data\n",
    "print('sum - ', scores_sum)\n",
    "print('avg - ', scores_sum / len(scores))"
   ]
  },
  {
   "cell_type": "code",
   "execution_count": null,
   "id": "d2f3b6cc",
   "metadata": {},
   "outputs": [],
   "source": [
    "ending_msg = 'see you next time'\n",
    "print('type - ', type(ending_msg))\n",
    "\n",
    "# 문자도 텍스트 시퀀스이기 때문에 루프 가능\n",
    "for char in ending_msg:\n",
    "    print(data, end = '')"
   ]
  },
  {
   "cell_type": "code",
   "execution_count": null,
   "id": "6bdeee0d",
   "metadata": {},
   "outputs": [],
   "source": [
    "tmp_tuple = (5, 4, 6, 7, 1, 2, 9, 0)\n",
    "print(dir(tmp_tuple))   # dir로 확인했을 때 '__iter__' 가 있으면 루프 가능\n",
    "for tup in tmp_tuple :\n",
    "    print(tup, end = ' ')"
   ]
  },
  {
   "cell_type": "code",
   "execution_count": 2,
   "id": "8f0e31d5",
   "metadata": {},
   "outputs": [
    {
     "name": "stdout",
     "output_type": "stream",
     "text": [
      "리스트의 요소를 카운트 한다면? - \n",
      "{1: 2, 2: 7, 3: 8, 23: 3, 4: 6, 5: 6, 6: 3, 21: 1, 43: 1, 54: 1, 34: 1, 65: 2, 24: 1}\n"
     ]
    }
   ],
   "source": [
    "print('리스트의 요소를 카운트 한다면? - ')\n",
    "cnt_list  = [1,2,3,23,4,5,6,4,5,5,3,21,1,43,5,6,3,23,4,3,2,3,4,2,3,54,2,2,34,23,4,2,4,5,65,3,2,24,5,6,65,3]\n",
    "freq = {}\n",
    "for element in cnt_list:\n",
    "    if element in freq :\n",
    "        freq[element] += 1\n",
    "    else:\n",
    "        freq[element] = 1\n",
    "print(freq)"
   ]
  },
  {
   "cell_type": "code",
   "execution_count": 8,
   "id": "ccbd78db",
   "metadata": {
    "scrolled": true
   },
   "outputs": [
    {
     "name": "stdout",
     "output_type": "stream",
     "text": [
      "패키지.모듈의 함수 호출 -  30\n"
     ]
    }
   ],
   "source": [
    "# pip install import_ipynb\n",
    "\n",
    "import import_ipynb\n",
    "from random import randint\n",
    "from python_note.user_module import user_sum\n",
    "\n",
    "print('패키지.모듈의 함수 호출 - ', user_sum(10, 20))"
   ]
  },
  {
   "cell_type": "code",
   "execution_count": 10,
   "id": "34257746",
   "metadata": {},
   "outputs": [
    {
     "ename": "SyntaxError",
     "evalue": "invalid syntax (551502555.py, line 7)",
     "output_type": "error",
     "traceback": [
      "\u001b[1;36m  Input \u001b[1;32mIn [10]\u001b[1;36m\u001b[0m\n\u001b[1;33m    for tries in len(1:10):\u001b[0m\n\u001b[1;37m                      ^\u001b[0m\n\u001b[1;31mSyntaxError\u001b[0m\u001b[1;31m:\u001b[0m invalid syntax\n"
     ]
    }
   ],
   "source": [
    "print('10고개 난수 맞추기 - ')\n",
    "answer = randint(1,100)\n",
    "print('answer - ', answer)\n",
    "\n",
    "tries = 1\n",
    "\n",
    "for idx in range(10) :\n",
    "    guess = int(input('1 ~ 100 사이의 숫자를 입력하세요: '))\n",
    "    if guess == answer :\n",
    "        print('answer - ')\n",
    "        break\n",
    "    elif guess > answer :\n",
    "        print('The number is big.')\n",
    "    else :\n",
    "        print('The number is small.')\n",
    "    tries +=1\n",
    "\n",
    "print('정답 {}, 시도횟수: {}'.format(answer, tries))"
   ]
  },
  {
   "cell_type": "code",
   "execution_count": 18,
   "id": "883f68ae",
   "metadata": {},
   "outputs": [
    {
     "name": "stdout",
     "output_type": "stream",
     "text": [
      "2020\t2024\t2028\t2032\t2036\n",
      "2040\t2044\t2048\t"
     ]
    }
   ],
   "source": [
    "# 올림픽 4년마다 개최\n",
    "# 2020 ~ 2050 년 사이의 올림픽이 개최되는 연도 출력\n",
    "# 한 줄에 5개의 년도 출력\n",
    "# end =\n",
    "\n",
    "cnt = 0\n",
    "for year in range(2020, 2051, 4):\n",
    "    cnt += 1\n",
    "    if cnt%5 == 0 :\n",
    "        print(year, end = '\\n')\n",
    "    else:\n",
    "        print(year, end = '\\t')"
   ]
  },
  {
   "cell_type": "code",
   "execution_count": 19,
   "id": "fc8019c3",
   "metadata": {},
   "outputs": [
    {
     "name": "stdout",
     "output_type": "stream",
     "text": [
      "단을 입력받아 구구단을 출력 - \n",
      "단: 5\n",
      "5 * 1 = 5\t5 * 2 = 10\t5 * 3 = 15\t5 * 4 = 20\t5 * 5 = 25\t5 * 6 = 30\t5 * 7 = 35\t5 * 8 = 40\t5 * 9 = 45\t"
     ]
    }
   ],
   "source": [
    "print('단을 입력받아 구구단을 출력 - ')\n",
    "dan = int(input('단: '))\n",
    "\n",
    "for i in range(1, 10) :\n",
    "    print(dan, '*', i, '=', dan* i, end = '\\t')"
   ]
  },
  {
   "cell_type": "code",
   "execution_count": 21,
   "id": "5c276982",
   "metadata": {},
   "outputs": [
    {
     "name": "stdout",
     "output_type": "stream",
     "text": [
      "구구단을 만든다면? - \n",
      "2 단- \n",
      "2 * 1 = 2\t2 * 2 = 4\t2 * 3 = 6\t2 * 4 = 8\t2 * 5 = 10\t2 * 6 = 12\t2 * 7 = 14\t2 * 8 = 16\t2 * 9 = 18\t\n",
      "3 단- \n",
      "3 * 1 = 3\t3 * 2 = 6\t3 * 3 = 9\t3 * 4 = 12\t3 * 5 = 15\t3 * 6 = 18\t3 * 7 = 21\t3 * 8 = 24\t3 * 9 = 27\t\n",
      "4 단- \n",
      "4 * 1 = 4\t4 * 2 = 8\t4 * 3 = 12\t4 * 4 = 16\t4 * 5 = 20\t4 * 6 = 24\t4 * 7 = 28\t4 * 8 = 32\t4 * 9 = 36\t\n",
      "5 단- \n",
      "5 * 1 = 5\t5 * 2 = 10\t5 * 3 = 15\t5 * 4 = 20\t5 * 5 = 25\t5 * 6 = 30\t5 * 7 = 35\t5 * 8 = 40\t5 * 9 = 45\t\n",
      "6 단- \n",
      "6 * 1 = 6\t6 * 2 = 12\t6 * 3 = 18\t6 * 4 = 24\t6 * 5 = 30\t6 * 6 = 36\t6 * 7 = 42\t6 * 8 = 48\t6 * 9 = 54\t\n",
      "7 단- \n",
      "7 * 1 = 7\t7 * 2 = 14\t7 * 3 = 21\t7 * 4 = 28\t7 * 5 = 35\t7 * 6 = 42\t7 * 7 = 49\t7 * 8 = 56\t7 * 9 = 63\t\n",
      "8 단- \n",
      "8 * 1 = 8\t8 * 2 = 16\t8 * 3 = 24\t8 * 4 = 32\t8 * 5 = 40\t8 * 6 = 48\t8 * 7 = 56\t8 * 8 = 64\t8 * 9 = 72\t\n",
      "9 단- \n",
      "9 * 1 = 9\t9 * 2 = 18\t9 * 3 = 27\t9 * 4 = 36\t9 * 5 = 45\t9 * 6 = 54\t9 * 7 = 63\t9 * 8 = 72\t9 * 9 = 81\t\n",
      "3단까지만 출력 - \n",
      "2 단- \n",
      "2 * 1 = 2\t2 * 2 = 4\t2 * 3 = 6\t2 * 4 = 8\t2 * 5 = 10\t2 * 6 = 12\t2 * 7 = 14\t2 * 8 = 16\t2 * 9 = 18\t\n",
      "3 단- \n",
      "3 * 1 = 3\t3 * 2 = 6\t3 * 3 = 9\t3 * 4 = 12\t3 * 5 = 15\t3 * 6 = 18\t3 * 7 = 21\t3 * 8 = 24\t3 * 9 = 27\t"
     ]
    }
   ],
   "source": [
    "print('구구단을 만든다면? - ')\n",
    "for i in range(2, 10):\n",
    "    print(i, '단- ')\n",
    "    for j in range(1, 10):\n",
    "        print(i, '*', j, '=', i*j, end = '\\t')\n",
    "    print()\n",
    "    \n",
    "\n",
    "print('3단까지만 출력 - ')\n",
    "for i in range(2, 10):\n",
    "    print(i, '단- ')\n",
    "    for j in range(1, 10):\n",
    "        print(i, '*', j, '=', i*j, end = '\\t')\n",
    "    if i == 3:\n",
    "        break\n",
    "    print()  \n",
    "    \n",
    "    \n",
    "print('3단을 제외하고 출력 - ')\n",
    "for i in range(2, 10):\n",
    "    if i == 3:\n",
    "        continue\n",
    "    print(i, '단- ')\n",
    "    for j in range(1, 10):\n",
    "        print(i, '*', j, '=', i*j, end = '\\t')\n",
    "    print()"
   ]
  },
  {
   "cell_type": "code",
   "execution_count": 48,
   "id": "559fc9bd",
   "metadata": {},
   "outputs": [
    {
     "name": "stdout",
     "output_type": "stream",
     "text": [
      "\n",
      "study\n",
      "PYTHON\n",
      "language\n"
     ]
    }
   ],
   "source": [
    "# 아래 리스트에서 세 글자 이상인 문자만 출력한다면?\n",
    "# len()\n",
    "print()\n",
    "\n",
    "tmpList = ['I' , 'AM' , 'study' , 'PYTHON' , 'language' , '!']\n",
    "for idx in range(len(tmpList)):\n",
    "    if len(tmpList[idx]) > 3:\n",
    "        print(tmpList[idx])\n"
   ]
  },
  {
   "cell_type": "code",
   "execution_count": 55,
   "id": "88b9ece3",
   "metadata": {},
   "outputs": [
    {
     "name": "stdout",
     "output_type": "stream",
     "text": [
      "greeting\n",
      "ex01\n",
      "intro\n",
      "bigdata\n"
     ]
    }
   ],
   "source": [
    "# 확장자를 제외하고 파일 이름만 출력한다면?\n",
    "# split()\n",
    "tmpList = ['greeting.py' , 'ex01.py' , 'intro.hwp' , 'bigdata.doc']\n",
    "\n",
    "for idx in range(len(tmpList)):\n",
    "    print((tmpList[idx].split('.'))[0])"
   ]
  },
  {
   "cell_type": "code",
   "execution_count": 57,
   "id": "68db13f1",
   "metadata": {},
   "outputs": [
    {
     "name": "stdout",
     "output_type": "stream",
     "text": [
      "0 greeting.py\n",
      "1 ex01.py\n",
      "2 intro.hwp\n",
      "3 bigdata.doc\n"
     ]
    }
   ],
   "source": [
    "# 인덱스 번호와 요소값을 확인 할 수 있는 enumerate()\n",
    "tmpList = ['greeting.py' , 'ex01.py' , 'intro.hwp' , 'bigdata.doc']\n",
    "\n",
    "for idx, value in enumerate(tmpList) :\n",
    "    print(idx, value)"
   ]
  },
  {
   "cell_type": "code",
   "execution_count": 65,
   "id": "1bdd2147",
   "metadata": {},
   "outputs": [
    {
     "name": "stdout",
     "output_type": "stream",
     "text": [
      "80%\n"
     ]
    }
   ],
   "source": [
    "# 분류정확도\n",
    "answer = [1, 0, 2, 1, 0]\n",
    "pridct = [1, 0, 2, 0, 0]\n",
    "accuracy = 0\n",
    "for idx in range(len(answer)) :\n",
    "    fit = answer[idx] == pridct[idx]\n",
    "    accuracy += int(fit) *20\n",
    "\n",
    "print(accuracy, '%', sep='')"
   ]
  },
  {
   "cell_type": "markdown",
   "id": "0e4b9bb2",
   "metadata": {},
   "source": [
    "- for ~ else"
   ]
  },
  {
   "cell_type": "code",
   "execution_count": 68,
   "id": "4cb9eb04",
   "metadata": {},
   "outputs": [
    {
     "name": "stdout",
     "output_type": "stream",
     "text": [
      "Found -  45\n"
     ]
    }
   ],
   "source": [
    "numbers = [14, 3, 4, 7, 45, 17, 8, 65, 43]\n",
    "   \n",
    "for idx, num in enumerate(numbers):\n",
    "    #print(numbers[idx], end = '\\t')\n",
    "    if numbers[idx] == 45:\n",
    "        print('Found - ', numbers[idx])\n",
    "        break\n",
    "else:\n",
    "    print('Not Found- ')"
   ]
  },
  {
   "cell_type": "code",
   "execution_count": 69,
   "id": "53564fdc",
   "metadata": {},
   "outputs": [
    {
     "name": "stdout",
     "output_type": "stream",
     "text": [
      "1\t2\t\n",
      "3\t4\t\n",
      "5\t6\t\n"
     ]
    }
   ],
   "source": [
    "apts = [[1, 2], [3, 4], [5, 6]]\n",
    "for row in apts:\n",
    "    for col in row:\n",
    "        print(col, end = '\\t')\n",
    "    print()"
   ]
  },
  {
   "cell_type": "code",
   "execution_count": 70,
   "id": "1a4158e4",
   "metadata": {},
   "outputs": [
    {
     "name": "stdout",
     "output_type": "stream",
     "text": [
      "\n",
      "i, j =  1 0\n",
      "\n",
      "\n"
     ]
    }
   ],
   "source": [
    "apts = [[1, 2], [3, 4], [5, 6]]\n",
    "for i, row in enumerate(apts):\n",
    "    for j, col in enumerate(row):\n",
    "        if apts[i][j] == 3:\n",
    "            print('i, j = ', i, j)\n",
    "    print()"
   ]
  },
  {
   "cell_type": "markdown",
   "id": "18a20e23",
   "metadata": {},
   "source": [
    "- for 문자열 처리"
   ]
  },
  {
   "cell_type": "code",
   "execution_count": 81,
   "id": "6ccc9453",
   "metadata": {},
   "outputs": [],
   "source": [
    "tmp_str = \\\n",
    "'''저는 파이썬을 공부중인 조용일 입니다.\n",
    "주소는 서울시 입니다.\n",
    "나이는 숫자에 불과합니다.\n",
    "항상 긍정의 마인드로 화이팅!!!'''"
   ]
  },
  {
   "cell_type": "code",
   "execution_count": 82,
   "id": "c3be473a",
   "metadata": {},
   "outputs": [
    {
     "name": "stdout",
     "output_type": "stream",
     "text": [
      "몇 문장인지?\n",
      "문장의 단어들은 몇 단어인지를 확인하고 싶다면\n",
      "문장의 개수-  4\n",
      "단어의 개수-  15\n"
     ]
    }
   ],
   "source": [
    "print('몇 문장인지?')\n",
    "print('문장의 단어들은 몇 단어인지를 확인하고 싶다면')\n",
    "\n",
    "sentences = []\n",
    "words = []\n",
    "for s in tmp_str.split('\\n'):\n",
    "    sentences.append(s)\n",
    "    for w in s.split():\n",
    "        words.append(w)\n",
    "print('문장의 개수- ', len(sentences))\n",
    "print('단어의 개수- ', len(words))\n",
    "    \n"
   ]
  },
  {
   "cell_type": "markdown",
   "id": "533e0e91",
   "metadata": {},
   "source": [
    "- while ~ else\n",
    "- 반복 횟수를 알 수 없고 특정 조건 만족시까지\n",
    "- 변수 생성 불가 True / False 판단\n",
    "- 조건식 False가 될 때까지 무한반복"
   ]
  },
  {
   "cell_type": "code",
   "execution_count": 84,
   "id": "2e2f6371",
   "metadata": {},
   "outputs": [
    {
     "name": "stdout",
     "output_type": "stream",
     "text": [
      "5\n",
      "4\n",
      "3\n",
      "2\n",
      "1\n",
      "조건식이 false일 때 루프를 빠져나옴\n"
     ]
    }
   ],
   "source": [
    "# for 변수 in [튜플, 리스트, 문자열 등 반복 가능한 객체]:\n",
    "#      수행구문\n",
    "\n",
    "# 초기식\n",
    "# while 조건식:\n",
    "#     수행구문\n",
    "\n",
    "n = 5\n",
    "while n > 0 :\n",
    "    print(n)\n",
    "    n = n - 1\n",
    "\n",
    "print('조건식이 false일 때 루프를 빠져나옴')"
   ]
  },
  {
   "cell_type": "code",
   "execution_count": 85,
   "id": "e46ee85b",
   "metadata": {},
   "outputs": [
    {
     "name": "stdout",
     "output_type": "stream",
     "text": [
      "baz\n",
      "bar\n",
      "foo\n"
     ]
    }
   ],
   "source": [
    "tmp_list = ['foo', 'bar', 'baz']\n",
    "while tmp_list :\n",
    "    print(tmp_list.pop())"
   ]
  },
  {
   "cell_type": "code",
   "execution_count": 129,
   "id": "cc2bcd4a",
   "metadata": {},
   "outputs": [
    {
     "name": "stdout",
     "output_type": "stream",
     "text": [
      "1368\n",
      "5050\n"
     ]
    }
   ],
   "source": [
    "# 1~ 100까지의 합, 3의 배수이면서 5의 배수가 아닌 합  \n",
    "# 출력 - while\n",
    "n = 1\n",
    "result = 0\n",
    "cnt = 0\n",
    "while n <= 100:\n",
    "    cnt += n\n",
    "    if n%3 == 0 and n%5 !=0:\n",
    "        result += n\n",
    "    n +=1\n",
    "print(result)\n",
    "print(cnt)"
   ]
  },
  {
   "cell_type": "code",
   "execution_count": 94,
   "id": "0c2d6390",
   "metadata": {},
   "outputs": [
    {
     "name": "stdout",
     "output_type": "stream",
     "text": [
      "while ~ else\n"
     ]
    }
   ],
   "source": [
    "n = 10\n",
    "while n > 0 :\n",
    "    n -= 1\n",
    "    if n == 5 :\n",
    "        break\n",
    "else :\n",
    "    print('while ~ else')\n",
    "    \n",
    "\n",
    "# else 를 출력하고 싶다면 조건을 반대로\n",
    "n = 10\n",
    "while n < 0 :\n",
    "    n -= 1\n",
    "    if n == 5 :\n",
    "        break\n",
    "else :\n",
    "    print('while ~ else')"
   ]
  },
  {
   "cell_type": "code",
   "execution_count": null,
   "id": "1fb24588",
   "metadata": {},
   "outputs": [],
   "source": [
    "# 문)\n",
    "# 10고개, 구구단 while로 변경"
   ]
  },
  {
   "cell_type": "code",
   "execution_count": 136,
   "id": "f320354b",
   "metadata": {},
   "outputs": [
    {
     "name": "stdout",
     "output_type": "stream",
     "text": [
      "26\n",
      "1~100 사이의 숫자를 입력하세요: 8\n",
      "The number is small.\n",
      "1~100 사이의 숫자를 입력하세요: 8\n",
      "The number is small.\n",
      "1~100 사이의 숫자를 입력하세요: 8\n",
      "The number is small.\n",
      "1~100 사이의 숫자를 입력하세요: 8\n",
      "The number is small.\n",
      "1~100 사이의 숫자를 입력하세요: 8\n",
      "The number is small.\n",
      "1~100 사이의 숫자를 입력하세요: 8\n",
      "The number is small.\n",
      "1~100 사이의 숫자를 입력하세요: 8\n",
      "The number is small.\n",
      "1~100 사이의 숫자를 입력하세요: 8\n",
      "The number is small.\n",
      "1~100 사이의 숫자를 입력하세요: 8\n",
      "The number is small.\n",
      "1~100 사이의 숫자를 입력하세요: 8\n",
      "The number is small.\n",
      "정답: 26, 시도횟수: 11\n"
     ]
    }
   ],
   "source": [
    "answer = randint(1,100)\n",
    "print(answer)\n",
    "\n",
    "n = 1\n",
    "while n <= 10:\n",
    "    guess = int(input('1~100 사이의 숫자를 입력하세요: '))\n",
    "    if guess == answer :\n",
    "        print('answer - ')\n",
    "        break\n",
    "    elif guess > answer :\n",
    "        print('The number is big.')\n",
    "    else :\n",
    "        print('The number is small.')\n",
    "    n+=1\n",
    "print('정답: {}, 시도횟수: {}'.format(answer, n))\n",
    "\n",
    "\n",
    "# 왜 10번 시도하면 시도횟수가 11로 뜰까?\n"
   ]
  },
  {
   "cell_type": "code",
   "execution_count": 132,
   "id": "45a08cb5",
   "metadata": {},
   "outputs": [
    {
     "name": "stdout",
     "output_type": "stream",
     "text": [
      "2 단- \n",
      "2 * 1 = 2\t2 * 2 = 4\t2 * 3 = 6\t2 * 4 = 8\t2 * 5 = 10\t2 * 6 = 12\t2 * 7 = 14\t2 * 8 = 16\t2 * 9 = 18\t3 단- \n",
      "3 * 1 = 3\t3 * 2 = 6\t3 * 3 = 9\t3 * 4 = 12\t3 * 5 = 15\t3 * 6 = 18\t3 * 7 = 21\t3 * 8 = 24\t3 * 9 = 27\t4 단- \n",
      "4 * 1 = 4\t4 * 2 = 8\t4 * 3 = 12\t4 * 4 = 16\t4 * 5 = 20\t4 * 6 = 24\t4 * 7 = 28\t4 * 8 = 32\t4 * 9 = 36\t5 단- \n",
      "5 * 1 = 5\t5 * 2 = 10\t5 * 3 = 15\t5 * 4 = 20\t5 * 5 = 25\t5 * 6 = 30\t5 * 7 = 35\t5 * 8 = 40\t5 * 9 = 45\t6 단- \n",
      "6 * 1 = 6\t6 * 2 = 12\t6 * 3 = 18\t6 * 4 = 24\t6 * 5 = 30\t6 * 6 = 36\t6 * 7 = 42\t6 * 8 = 48\t6 * 9 = 54\t7 단- \n",
      "7 * 1 = 7\t7 * 2 = 14\t7 * 3 = 21\t7 * 4 = 28\t7 * 5 = 35\t7 * 6 = 42\t7 * 7 = 49\t7 * 8 = 56\t7 * 9 = 63\t8 단- \n",
      "8 * 1 = 8\t8 * 2 = 16\t8 * 3 = 24\t8 * 4 = 32\t8 * 5 = 40\t8 * 6 = 48\t8 * 7 = 56\t8 * 8 = 64\t8 * 9 = 72\t9 단- \n",
      "9 * 1 = 9\t9 * 2 = 18\t9 * 3 = 27\t9 * 4 = 36\t9 * 5 = 45\t9 * 6 = 54\t9 * 7 = 63\t9 * 8 = 72\t9 * 9 = 81\t"
     ]
    }
   ],
   "source": [
    "n = 2\n",
    "m = 1\n",
    "while n <= 9 :\n",
    "    print(n, '단- ')\n",
    "    while m <= 9 :\n",
    "        print(n, '*', m, '=', n*m, end = '\\t')\n",
    "        m+=1\n",
    "        if m == 10:\n",
    "            break\n",
    "    n +=1\n",
    "    m = 1"
   ]
  },
  {
   "cell_type": "code",
   "execution_count": null,
   "id": "1a4ee75d",
   "metadata": {},
   "outputs": [],
   "source": []
  },
  {
   "cell_type": "code",
   "execution_count": null,
   "id": "c0cd436f",
   "metadata": {},
   "outputs": [],
   "source": []
  },
  {
   "cell_type": "code",
   "execution_count": null,
   "id": "1a0dc218",
   "metadata": {},
   "outputs": [],
   "source": []
  },
  {
   "cell_type": "code",
   "execution_count": null,
   "id": "148af3d0",
   "metadata": {},
   "outputs": [],
   "source": []
  },
  {
   "cell_type": "code",
   "execution_count": null,
   "id": "1eea2807",
   "metadata": {},
   "outputs": [],
   "source": []
  },
  {
   "cell_type": "code",
   "execution_count": null,
   "id": "06a742b7",
   "metadata": {},
   "outputs": [],
   "source": []
  },
  {
   "cell_type": "code",
   "execution_count": null,
   "id": "75870b3d",
   "metadata": {},
   "outputs": [],
   "source": []
  }
 ],
 "metadata": {
  "kernelspec": {
   "display_name": "Python 3 (ipykernel)",
   "language": "python",
   "name": "python3"
  },
  "language_info": {
   "codemirror_mode": {
    "name": "ipython",
    "version": 3
   },
   "file_extension": ".py",
   "mimetype": "text/x-python",
   "name": "python",
   "nbconvert_exporter": "python",
   "pygments_lexer": "ipython3",
   "version": "3.9.12"
  }
 },
 "nbformat": 4,
 "nbformat_minor": 5
}
